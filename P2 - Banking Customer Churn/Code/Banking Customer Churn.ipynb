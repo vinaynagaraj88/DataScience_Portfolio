{
 "cells": [
  {
   "cell_type": "markdown",
   "metadata": {},
   "source": [
    "## Banking Customer Churn Prediction  \n",
    "**Vinay Nagaraj**"
   ]
  },
  {
   "cell_type": "markdown",
   "metadata": {},
   "source": [
    "### Overview"
   ]
  },
  {
   "cell_type": "markdown",
   "metadata": {},
   "source": [
    "Customers are the most important part of your business regardless of the industry. There would be no sales without customers and they are a critical factor when developing your marketing messaging and strategy. Customer Churn is the rate at which customers stop doing business with an entity. This is one of the most acknowledged problems in the banking sector and Banks are constantly looking at data/suggestions which could help them improve their customer service and retain their existing customers and also bring in new customers."
   ]
  },
  {
   "cell_type": "markdown",
   "metadata": {},
   "source": [
    "Banks often use customer churn analysis and customer churn rates as one of their key business metrics because the cost of retaining existing customers is far less than acquiring a new one. Customer churn prevention is one of the deciding factors when it comes to maximizing the revenues of any organization. "
   ]
  },
  {
   "cell_type": "markdown",
   "metadata": {},
   "source": [
    "As part of this project, I will be using the dataset [Kaggle](https://www.kaggle.com/shrutimechlearn/churn-modelling) by which I intend to focus on the behavior of bank customers who are more likely to leave the bank. I want to find out some striking behaviors of customers through Exploratory Data Analysis and later on use some of the predictive analytics techniques to determine the customers who are most likely to churn."
   ]
  },
  {
   "cell_type": "code",
   "execution_count": 1,
   "metadata": {},
   "outputs": [],
   "source": [
    "# Load necessary libraries\n",
    "import numpy as np\n",
    "import pandas as pd\n",
    "import seaborn as sns\n",
    "import matplotlib.pyplot as plt\n",
    "from numpy import mean, std\n",
    "import scikitplot as skplt\n",
    "from sklearn.model_selection import train_test_split\n",
    "from sklearn.feature_selection import VarianceThreshold\n",
    "from sklearn.feature_selection import SelectKBest\n",
    "from sklearn.feature_selection import f_classif\n",
    "from sklearn.model_selection import RepeatedStratifiedKFold\n",
    "from sklearn.dummy import DummyClassifier\n",
    "from sklearn.metrics import auc, make_scorer\n",
    "from sklearn.model_selection import KFold, cross_val_score\n",
    "from sklearn.preprocessing import StandardScaler\n",
    "from sklearn.ensemble import RandomForestClassifier\n",
    "from sklearn.tree import DecisionTreeClassifier\n",
    "from sklearn.linear_model import SGDClassifier\n",
    "from sklearn.linear_model import LogisticRegression\n",
    "from sklearn.neighbors import KNeighborsClassifier\n",
    "from sklearn.svm import SVC\n",
    "from sklearn.naive_bayes import GaussianNB\n",
    "from sklearn.model_selection import GridSearchCV\n",
    "from sklearn.metrics import confusion_matrix,precision_recall_curve,auc,roc_auc_score,roc_curve,recall_score\n",
    "from sklearn.metrics import classification_report"
   ]
  },
  {
   "cell_type": "code",
   "execution_count": 2,
   "metadata": {},
   "outputs": [],
   "source": [
    "# Read our data\n",
    "churn_data = pd.read_csv('Churn_Modelling.csv')"
   ]
  },
  {
   "cell_type": "code",
   "execution_count": 3,
   "metadata": {},
   "outputs": [
    {
     "name": "stdout",
     "output_type": "stream",
     "text": [
      "The dimension of the table is:  (10000, 14)\n"
     ]
    }
   ],
   "source": [
    "# Check the dimension of the data frame\n",
    "print(\"The dimension of the table is: \", churn_data.shape)"
   ]
  },
  {
   "cell_type": "code",
   "execution_count": 4,
   "metadata": {},
   "outputs": [
    {
     "name": "stdout",
     "output_type": "stream",
     "text": [
      "                        0         1         2         3         4\n",
      "RowNumber               1         2         3         4         5\n",
      "CustomerId       15634602  15647311  15619304  15701354  15737888\n",
      "Surname          Hargrave      Hill      Onio      Boni  Mitchell\n",
      "CreditScore           619       608       502       699       850\n",
      "Geography          France     Spain    France    France     Spain\n",
      "Gender             Female    Female    Female    Female    Female\n",
      "Age                    42        41        42        39        43\n",
      "Tenure                  2         1         8         1         2\n",
      "Balance                 0   83807.9    159661         0    125511\n",
      "NumOfProducts           1         1         3         2         1\n",
      "HasCrCard               1         0         1         0         1\n",
      "IsActiveMember          1         1         0         0         1\n",
      "EstimatedSalary    101349    112543    113932   93826.6   79084.1\n",
      "Exited                  1         0         1         0         0\n"
     ]
    }
   ],
   "source": [
    "# Lets look at some sample records to understand the data\n",
    "print(churn_data.head(5).T)"
   ]
  },
  {
   "cell_type": "code",
   "execution_count": 5,
   "metadata": {},
   "outputs": [
    {
     "data": {
      "text/plain": [
       "RowNumber            int64\n",
       "CustomerId           int64\n",
       "Surname             object\n",
       "CreditScore          int64\n",
       "Geography           object\n",
       "Gender              object\n",
       "Age                  int64\n",
       "Tenure               int64\n",
       "Balance            float64\n",
       "NumOfProducts        int64\n",
       "HasCrCard            int64\n",
       "IsActiveMember       int64\n",
       "EstimatedSalary    float64\n",
       "Exited               int64\n",
       "dtype: object"
      ]
     },
     "execution_count": 5,
     "metadata": {},
     "output_type": "execute_result"
    }
   ],
   "source": [
    "# Check the types of each feature\n",
    "churn_data.dtypes"
   ]
  },
  {
   "cell_type": "code",
   "execution_count": 6,
   "metadata": {},
   "outputs": [
    {
     "data": {
      "text/plain": [
       "RowNumber          0\n",
       "CustomerId         0\n",
       "Surname            0\n",
       "CreditScore        0\n",
       "Geography          0\n",
       "Gender             0\n",
       "Age                0\n",
       "Tenure             0\n",
       "Balance            0\n",
       "NumOfProducts      0\n",
       "HasCrCard          0\n",
       "IsActiveMember     0\n",
       "EstimatedSalary    0\n",
       "Exited             0\n",
       "dtype: int64"
      ]
     },
     "execution_count": 6,
     "metadata": {},
     "output_type": "execute_result"
    }
   ],
   "source": [
    "# Check for any missing values\n",
    "churn_data.isna().sum()"
   ]
  },
  {
   "cell_type": "code",
   "execution_count": 7,
   "metadata": {},
   "outputs": [
    {
     "data": {
      "text/html": [
       "<div>\n",
       "<style scoped>\n",
       "    .dataframe tbody tr th:only-of-type {\n",
       "        vertical-align: middle;\n",
       "    }\n",
       "\n",
       "    .dataframe tbody tr th {\n",
       "        vertical-align: top;\n",
       "    }\n",
       "\n",
       "    .dataframe thead th {\n",
       "        text-align: right;\n",
       "    }\n",
       "</style>\n",
       "<table border=\"1\" class=\"dataframe\">\n",
       "  <thead>\n",
       "    <tr style=\"text-align: right;\">\n",
       "      <th></th>\n",
       "      <th>RowNumber</th>\n",
       "      <th>CustomerId</th>\n",
       "      <th>CreditScore</th>\n",
       "      <th>Age</th>\n",
       "      <th>Tenure</th>\n",
       "      <th>Balance</th>\n",
       "      <th>NumOfProducts</th>\n",
       "      <th>HasCrCard</th>\n",
       "      <th>IsActiveMember</th>\n",
       "      <th>EstimatedSalary</th>\n",
       "      <th>Exited</th>\n",
       "    </tr>\n",
       "  </thead>\n",
       "  <tbody>\n",
       "    <tr>\n",
       "      <th>count</th>\n",
       "      <td>10000.00000</td>\n",
       "      <td>1.000000e+04</td>\n",
       "      <td>10000.000000</td>\n",
       "      <td>10000.000000</td>\n",
       "      <td>10000.000000</td>\n",
       "      <td>10000.000000</td>\n",
       "      <td>10000.000000</td>\n",
       "      <td>10000.00000</td>\n",
       "      <td>10000.000000</td>\n",
       "      <td>10000.000000</td>\n",
       "      <td>10000.000000</td>\n",
       "    </tr>\n",
       "    <tr>\n",
       "      <th>mean</th>\n",
       "      <td>5000.50000</td>\n",
       "      <td>1.569094e+07</td>\n",
       "      <td>650.528800</td>\n",
       "      <td>38.921800</td>\n",
       "      <td>5.012800</td>\n",
       "      <td>76485.889288</td>\n",
       "      <td>1.530200</td>\n",
       "      <td>0.70550</td>\n",
       "      <td>0.515100</td>\n",
       "      <td>100090.239881</td>\n",
       "      <td>0.203700</td>\n",
       "    </tr>\n",
       "    <tr>\n",
       "      <th>std</th>\n",
       "      <td>2886.89568</td>\n",
       "      <td>7.193619e+04</td>\n",
       "      <td>96.653299</td>\n",
       "      <td>10.487806</td>\n",
       "      <td>2.892174</td>\n",
       "      <td>62397.405202</td>\n",
       "      <td>0.581654</td>\n",
       "      <td>0.45584</td>\n",
       "      <td>0.499797</td>\n",
       "      <td>57510.492818</td>\n",
       "      <td>0.402769</td>\n",
       "    </tr>\n",
       "    <tr>\n",
       "      <th>min</th>\n",
       "      <td>1.00000</td>\n",
       "      <td>1.556570e+07</td>\n",
       "      <td>350.000000</td>\n",
       "      <td>18.000000</td>\n",
       "      <td>0.000000</td>\n",
       "      <td>0.000000</td>\n",
       "      <td>1.000000</td>\n",
       "      <td>0.00000</td>\n",
       "      <td>0.000000</td>\n",
       "      <td>11.580000</td>\n",
       "      <td>0.000000</td>\n",
       "    </tr>\n",
       "    <tr>\n",
       "      <th>25%</th>\n",
       "      <td>2500.75000</td>\n",
       "      <td>1.562853e+07</td>\n",
       "      <td>584.000000</td>\n",
       "      <td>32.000000</td>\n",
       "      <td>3.000000</td>\n",
       "      <td>0.000000</td>\n",
       "      <td>1.000000</td>\n",
       "      <td>0.00000</td>\n",
       "      <td>0.000000</td>\n",
       "      <td>51002.110000</td>\n",
       "      <td>0.000000</td>\n",
       "    </tr>\n",
       "    <tr>\n",
       "      <th>50%</th>\n",
       "      <td>5000.50000</td>\n",
       "      <td>1.569074e+07</td>\n",
       "      <td>652.000000</td>\n",
       "      <td>37.000000</td>\n",
       "      <td>5.000000</td>\n",
       "      <td>97198.540000</td>\n",
       "      <td>1.000000</td>\n",
       "      <td>1.00000</td>\n",
       "      <td>1.000000</td>\n",
       "      <td>100193.915000</td>\n",
       "      <td>0.000000</td>\n",
       "    </tr>\n",
       "    <tr>\n",
       "      <th>75%</th>\n",
       "      <td>7500.25000</td>\n",
       "      <td>1.575323e+07</td>\n",
       "      <td>718.000000</td>\n",
       "      <td>44.000000</td>\n",
       "      <td>7.000000</td>\n",
       "      <td>127644.240000</td>\n",
       "      <td>2.000000</td>\n",
       "      <td>1.00000</td>\n",
       "      <td>1.000000</td>\n",
       "      <td>149388.247500</td>\n",
       "      <td>0.000000</td>\n",
       "    </tr>\n",
       "    <tr>\n",
       "      <th>max</th>\n",
       "      <td>10000.00000</td>\n",
       "      <td>1.581569e+07</td>\n",
       "      <td>850.000000</td>\n",
       "      <td>92.000000</td>\n",
       "      <td>10.000000</td>\n",
       "      <td>250898.090000</td>\n",
       "      <td>4.000000</td>\n",
       "      <td>1.00000</td>\n",
       "      <td>1.000000</td>\n",
       "      <td>199992.480000</td>\n",
       "      <td>1.000000</td>\n",
       "    </tr>\n",
       "  </tbody>\n",
       "</table>\n",
       "</div>"
      ],
      "text/plain": [
       "         RowNumber    CustomerId   CreditScore           Age        Tenure  \\\n",
       "count  10000.00000  1.000000e+04  10000.000000  10000.000000  10000.000000   \n",
       "mean    5000.50000  1.569094e+07    650.528800     38.921800      5.012800   \n",
       "std     2886.89568  7.193619e+04     96.653299     10.487806      2.892174   \n",
       "min        1.00000  1.556570e+07    350.000000     18.000000      0.000000   \n",
       "25%     2500.75000  1.562853e+07    584.000000     32.000000      3.000000   \n",
       "50%     5000.50000  1.569074e+07    652.000000     37.000000      5.000000   \n",
       "75%     7500.25000  1.575323e+07    718.000000     44.000000      7.000000   \n",
       "max    10000.00000  1.581569e+07    850.000000     92.000000     10.000000   \n",
       "\n",
       "             Balance  NumOfProducts    HasCrCard  IsActiveMember  \\\n",
       "count   10000.000000   10000.000000  10000.00000    10000.000000   \n",
       "mean    76485.889288       1.530200      0.70550        0.515100   \n",
       "std     62397.405202       0.581654      0.45584        0.499797   \n",
       "min         0.000000       1.000000      0.00000        0.000000   \n",
       "25%         0.000000       1.000000      0.00000        0.000000   \n",
       "50%     97198.540000       1.000000      1.00000        1.000000   \n",
       "75%    127644.240000       2.000000      1.00000        1.000000   \n",
       "max    250898.090000       4.000000      1.00000        1.000000   \n",
       "\n",
       "       EstimatedSalary        Exited  \n",
       "count     10000.000000  10000.000000  \n",
       "mean     100090.239881      0.203700  \n",
       "std       57510.492818      0.402769  \n",
       "min          11.580000      0.000000  \n",
       "25%       51002.110000      0.000000  \n",
       "50%      100193.915000      0.000000  \n",
       "75%      149388.247500      0.000000  \n",
       "max      199992.480000      1.000000  "
      ]
     },
     "execution_count": 7,
     "metadata": {},
     "output_type": "execute_result"
    }
   ],
   "source": [
    "churn_data.describe()"
   ]
  },
  {
   "cell_type": "code",
   "execution_count": 8,
   "metadata": {},
   "outputs": [
    {
     "name": "stdout",
     "output_type": "stream",
     "text": [
      "Surname : ['Hargrave' 'Hill' 'Onio' ... 'Kashiwagi' 'Aldridge' 'Burbidge']\n",
      "Smith        32\n",
      "Scott        29\n",
      "Martin       29\n",
      "Walker       28\n",
      "Brown        26\n",
      "             ..\n",
      "Bogdanova     1\n",
      "Upjohn        1\n",
      "Hazon         1\n",
      "Herrin        1\n",
      "Wilkie        1\n",
      "Name: Surname, Length: 2932, dtype: int64\n",
      "-----------------------------------------------------\n",
      "\n",
      "\n",
      "Geography : ['France' 'Spain' 'Germany']\n",
      "France     5014\n",
      "Germany    2509\n",
      "Spain      2477\n",
      "Name: Geography, dtype: int64\n",
      "-----------------------------------------------------\n",
      "\n",
      "\n",
      "Gender : ['Female' 'Male']\n",
      "Male      5457\n",
      "Female    4543\n",
      "Name: Gender, dtype: int64\n",
      "-----------------------------------------------------\n",
      "\n",
      "\n"
     ]
    }
   ],
   "source": [
    "# Understand the categorical data in our dataset\n",
    "for column in churn_data.columns:\n",
    "  if churn_data[column].dtype == object:\n",
    "    print(\"{} : {}\".format(str(column), str(churn_data[column].unique())))\n",
    "    print(churn_data[column].value_counts())\n",
    "    print(\"-----------------------------------------------------\\n\\n\")"
   ]
  },
  {
   "cell_type": "markdown",
   "metadata": {},
   "source": [
    "Below are our observations so far:\\\n",
    "1) Input data has 10000 records and 14 features.\\\n",
    "2) There is no missing values.\\\n",
    "3) 'RowNumber','CustomerId', 'Surname' seems to be irrelevant features to our analysis. "
   ]
  },
  {
   "cell_type": "code",
   "execution_count": 9,
   "metadata": {},
   "outputs": [],
   "source": [
    "# Drop the 3 features which we are identified as unimportant.\n",
    "churn_data = churn_data.drop('RowNumber', axis=1)\n",
    "churn_data = churn_data.drop('CustomerId', axis=1)\n",
    "churn_data = churn_data.drop('Surname', axis=1)"
   ]
  },
  {
   "cell_type": "markdown",
   "metadata": {},
   "source": [
    "**Data Summary**\n",
    "- Surname : The surname of the customer\n",
    "- CreditScore : The credit score of the customer\n",
    "- Geography : The country of the customer(Germany/France/Spain)\n",
    "- Gender : The gender of the customer (Female/Male)\n",
    "- Age : The age of the customer\n",
    "- Tenure : The customer's number of years in the in the bank\n",
    "- Balance : The customer's account balance\n",
    "- NumOfProducts : The number of bank products that the customer uses\n",
    "- HasCrCard : Does the customer has a card? (0=No,1=Yes)\n",
    "- IsActiveMember : Does the customer has an active membership (0=No,1=Yes)\n",
    "- EstimatedSalary : The estimated salary of the customer\n",
    "- Exited : Churned or not? (0=No,1=Yes)"
   ]
  },
  {
   "cell_type": "markdown",
   "metadata": {},
   "source": [
    "### Graph Analysis/EDA"
   ]
  },
  {
   "cell_type": "code",
   "execution_count": 10,
   "metadata": {},
   "outputs": [
    {
     "data": {
      "text/plain": [
       "0    7963\n",
       "1    2037\n",
       "Name: Exited, dtype: int64"
      ]
     },
     "execution_count": 10,
     "metadata": {},
     "output_type": "execute_result"
    }
   ],
   "source": [
    "# Identify the Count of Customers who have an active account (Exited = 0) vs Employees who have exited the bank (Exited = 1)\n",
    "churn_data['Exited'].value_counts()"
   ]
  },
  {
   "cell_type": "code",
   "execution_count": 11,
   "metadata": {},
   "outputs": [
    {
     "data": {
      "image/png": "[encoded data removed]",
      "text/plain": [
       "<Figure size 432x288 with 1 Axes>"
      ]
     },
     "metadata": {
      "needs_background": "light"
     },
     "output_type": "display_data"
    }
   ],
   "source": [
    "# Plot the Customer Exited\n",
    "sns.countplot(churn_data.Exited)\n",
    "plt.title(\"Count of Customer Exited\",fontsize=15)\n",
    "plt.show()"
   ]
  },
  {
   "cell_type": "markdown",
   "metadata": {},
   "source": [
    "Total count of Customers who have an active account is 7,963\\\n",
    "Total count of Customers who no longer have an account with the bank is 2,037"
   ]
  },
  {
   "cell_type": "code",
   "execution_count": 12,
   "metadata": {},
   "outputs": [
    {
     "data": {
      "image/png": "[encoded data removed]",
      "text/plain": [
       "<Figure size 360x360 with 1 Axes>"
      ]
     },
     "metadata": {
      "needs_background": "light"
     },
     "output_type": "display_data"
    }
   ],
   "source": [
    "# plot Gender wise customer churn\n",
    "g= sns.catplot(x = \"Gender\", y = \"Exited\", data = churn_data, kind = \"bar\", height = 5)\n",
    "g.set_ylabels(\"Gender wise Churn Probability\")\n",
    "plt.title(\"Gender wise customer churn\",fontsize=15)\n",
    "plt.show()"
   ]
  },
  {
   "cell_type": "markdown",
   "metadata": {},
   "source": [
    "Per the plot above, looks like Female exits the bank more"
   ]
  },
  {
   "cell_type": "code",
   "execution_count": 13,
   "metadata": {},
   "outputs": [
    {
     "data": {
      "image/png": "[encoded data removed]",
      "text/plain": [
       "<Figure size 360x360 with 1 Axes>"
      ]
     },
     "metadata": {
      "needs_background": "light"
     },
     "output_type": "display_data"
    }
   ],
   "source": [
    "# plot Geography wise customer churn\n",
    "g= sns.catplot(x = \"Geography\", y = \"Exited\", data = churn_data, kind = \"bar\", height = 5)\n",
    "g.set_ylabels(\"Geography wise Churn Probability\")\n",
    "plt.title(\"Geography wise customer churn\",fontsize=15)\n",
    "plt.show()"
   ]
  },
  {
   "cell_type": "markdown",
   "metadata": {},
   "source": [
    "Per the plot above, looks like Customers in Germany exits the bank more"
   ]
  },
  {
   "cell_type": "code",
   "execution_count": 14,
   "metadata": {},
   "outputs": [
    {
     "data": {
      "image/png": "[encoded data removed]",
      "text/plain": [
       "<Figure size 360x360 with 1 Axes>"
      ]
     },
     "metadata": {
      "needs_background": "light"
     },
     "output_type": "display_data"
    }
   ],
   "source": [
    "# plot Credit card wise customer churn\n",
    "g= sns.catplot(x = \"HasCrCard\", y = \"Exited\", data = churn_data, kind = \"bar\", height = 5)\n",
    "g.set_ylabels(\"Credit Card Churn Probability\")\n",
    "plt.title(\"Credit Card customer churn\",fontsize=15)\n",
    "plt.show()"
   ]
  },
  {
   "cell_type": "markdown",
   "metadata": {},
   "source": [
    "Per the above plot, Customers with no credit card tend to leave the bank more than customers with credit card."
   ]
  },
  {
   "cell_type": "code",
   "execution_count": 15,
   "metadata": {},
   "outputs": [
    {
     "data": {
      "image/png": "[encoded data removed]",
      "text/plain": [
       "<Figure size 360x360 with 1 Axes>"
      ]
     },
     "metadata": {
      "needs_background": "light"
     },
     "output_type": "display_data"
    }
   ],
   "source": [
    "# plot Credit card wise customer churn\n",
    "g= sns.catplot(x = \"IsActiveMember\", y = \"Exited\", data = churn_data, kind = \"bar\", height = 5)\n",
    "g.set_ylabels(\"Active Member Churn Probability\")\n",
    "plt.title(\"Active Member customer churn\",fontsize=15)\n",
    "plt.show()"
   ]
  },
  {
   "cell_type": "markdown",
   "metadata": {},
   "source": [
    "Per the above plot, inactive members tend to exit the bank more"
   ]
  },
  {
   "cell_type": "code",
   "execution_count": 16,
   "metadata": {},
   "outputs": [
    {
     "data": {
      "image/png": "[encoded data removed]",
      "text/plain": [
       "<Figure size 1440x720 with 1 Axes>"
      ]
     },
     "metadata": {
      "needs_background": "light"
     },
     "output_type": "display_data"
    }
   ],
   "source": [
    "# plot Product wise customer churn\n",
    "plt.figure(figsize=(20,10))\n",
    "sns.countplot(churn_data['NumOfProducts'],hue=churn_data['Exited'])\n",
    "plt.title(\"Number of Products wise customer churn\",fontsize=15)\n",
    "plt.show()"
   ]
  },
  {
   "cell_type": "markdown",
   "metadata": {},
   "source": [
    "Per the above plot, the ratio of exited cases with 3 or more products definitely higher than under 2 products"
   ]
  },
  {
   "cell_type": "code",
   "execution_count": 17,
   "metadata": {},
   "outputs": [
    {
     "data": {
      "image/png": "[encoded data removed]",
      "text/plain": [
       "<Figure size 432x216 with 2 Axes>"
      ]
     },
     "metadata": {
      "needs_background": "light"
     },
     "output_type": "display_data"
    }
   ],
   "source": [
    "# plot Age wise customer churn\n",
    "g= sns.FacetGrid(churn_data, col = \"Exited\")\n",
    "g.map(sns.distplot, \"Age\", bins = 25)\n",
    "plt.show()"
   ]
  },
  {
   "cell_type": "markdown",
   "metadata": {},
   "source": [
    "Per the above plot, People with Ages between 30 to 40 has the highest probability of staying and Ages between 45 to 55 has the highest probability of leaving"
   ]
  },
  {
   "cell_type": "code",
   "execution_count": 18,
   "metadata": {},
   "outputs": [
    {
     "data": {
      "image/png": "[encoded data removed]",
      "text/plain": [
       "<Figure size 1080x864 with 2 Axes>"
      ]
     },
     "metadata": {
      "needs_background": "light"
     },
     "output_type": "display_data"
    }
   ],
   "source": [
    "# Pearson Correlation Heatmap\n",
    "plt.subplots(figsize=(15,12))\n",
    "sns.heatmap(churn_data.corr(method = 'pearson'), annot=True, fmt='.0%')\n",
    "plt.title(\"Pearson Correlation Heatmap\",fontsize=15)\n",
    "plt.show()"
   ]
  },
  {
   "cell_type": "code",
   "execution_count": 19,
   "metadata": {},
   "outputs": [
    {
     "data": {
      "image/png": "[encoded data removed]",
      "text/plain": [
       "<Figure size 1080x864 with 2 Axes>"
      ]
     },
     "metadata": {
      "needs_background": "light"
     },
     "output_type": "display_data"
    }
   ],
   "source": [
    "# Spearman Correlation Heatmap\n",
    "plt.subplots(figsize=(15,12))\n",
    "sns.heatmap(churn_data.corr(method = 'spearman'), annot=True, fmt='.0%')\n",
    "plt.title(\"Spearman Correlation Heatmap\",fontsize=15)\n",
    "plt.show()"
   ]
  },
  {
   "cell_type": "markdown",
   "metadata": {},
   "source": [
    "### Train/Test"
   ]
  },
  {
   "cell_type": "code",
   "execution_count": 20,
   "metadata": {},
   "outputs": [],
   "source": [
    "# Update the data in Geography column, by changing value of France to 0, Germany to 1 and Spain to 2\n",
    "churn_data['Geography'].replace({'France': 0, 'Germany': 1, 'Spain': 2}, inplace = True)"
   ]
  },
  {
   "cell_type": "code",
   "execution_count": 21,
   "metadata": {},
   "outputs": [],
   "source": [
    "# Update the data in Gender column, by changing value of Male to 0 and Female to 1\n",
    "churn_data['Gender'].replace({'Male': 0, 'Female': 1}, inplace = True)"
   ]
  },
  {
   "cell_type": "code",
   "execution_count": 22,
   "metadata": {},
   "outputs": [],
   "source": [
    "# Train and test data\n",
    "x=churn_data.drop(columns=[\"Exited\"],axis=\"columns\")\n",
    "y=churn_data.Exited"
   ]
  },
  {
   "cell_type": "code",
   "execution_count": 23,
   "metadata": {},
   "outputs": [
    {
     "data": {
      "text/html": [
       "<div>\n",
       "<style scoped>\n",
       "    .dataframe tbody tr th:only-of-type {\n",
       "        vertical-align: middle;\n",
       "    }\n",
       "\n",
       "    .dataframe tbody tr th {\n",
       "        vertical-align: top;\n",
       "    }\n",
       "\n",
       "    .dataframe thead th {\n",
       "        text-align: right;\n",
       "    }\n",
       "</style>\n",
       "<table border=\"1\" class=\"dataframe\">\n",
       "  <thead>\n",
       "    <tr style=\"text-align: right;\">\n",
       "      <th></th>\n",
       "      <th>CreditScore</th>\n",
       "      <th>Geography</th>\n",
       "      <th>Gender</th>\n",
       "      <th>Age</th>\n",
       "      <th>Tenure</th>\n",
       "      <th>Balance</th>\n",
       "      <th>NumOfProducts</th>\n",
       "      <th>HasCrCard</th>\n",
       "      <th>IsActiveMember</th>\n",
       "      <th>EstimatedSalary</th>\n",
       "    </tr>\n",
       "  </thead>\n",
       "  <tbody>\n",
       "    <tr>\n",
       "      <th>0</th>\n",
       "      <td>619</td>\n",
       "      <td>0</td>\n",
       "      <td>1</td>\n",
       "      <td>42</td>\n",
       "      <td>2</td>\n",
       "      <td>0.00</td>\n",
       "      <td>1</td>\n",
       "      <td>1</td>\n",
       "      <td>1</td>\n",
       "      <td>101348.88</td>\n",
       "    </tr>\n",
       "    <tr>\n",
       "      <th>1</th>\n",
       "      <td>608</td>\n",
       "      <td>2</td>\n",
       "      <td>1</td>\n",
       "      <td>41</td>\n",
       "      <td>1</td>\n",
       "      <td>83807.86</td>\n",
       "      <td>1</td>\n",
       "      <td>0</td>\n",
       "      <td>1</td>\n",
       "      <td>112542.58</td>\n",
       "    </tr>\n",
       "    <tr>\n",
       "      <th>2</th>\n",
       "      <td>502</td>\n",
       "      <td>0</td>\n",
       "      <td>1</td>\n",
       "      <td>42</td>\n",
       "      <td>8</td>\n",
       "      <td>159660.80</td>\n",
       "      <td>3</td>\n",
       "      <td>1</td>\n",
       "      <td>0</td>\n",
       "      <td>113931.57</td>\n",
       "    </tr>\n",
       "    <tr>\n",
       "      <th>3</th>\n",
       "      <td>699</td>\n",
       "      <td>0</td>\n",
       "      <td>1</td>\n",
       "      <td>39</td>\n",
       "      <td>1</td>\n",
       "      <td>0.00</td>\n",
       "      <td>2</td>\n",
       "      <td>0</td>\n",
       "      <td>0</td>\n",
       "      <td>93826.63</td>\n",
       "    </tr>\n",
       "    <tr>\n",
       "      <th>4</th>\n",
       "      <td>850</td>\n",
       "      <td>2</td>\n",
       "      <td>1</td>\n",
       "      <td>43</td>\n",
       "      <td>2</td>\n",
       "      <td>125510.82</td>\n",
       "      <td>1</td>\n",
       "      <td>1</td>\n",
       "      <td>1</td>\n",
       "      <td>79084.10</td>\n",
       "    </tr>\n",
       "  </tbody>\n",
       "</table>\n",
       "</div>"
      ],
      "text/plain": [
       "   CreditScore  Geography  Gender  Age  Tenure    Balance  NumOfProducts  \\\n",
       "0          619          0       1   42       2       0.00              1   \n",
       "1          608          2       1   41       1   83807.86              1   \n",
       "2          502          0       1   42       8  159660.80              3   \n",
       "3          699          0       1   39       1       0.00              2   \n",
       "4          850          2       1   43       2  125510.82              1   \n",
       "\n",
       "   HasCrCard  IsActiveMember  EstimatedSalary  \n",
       "0          1               1        101348.88  \n",
       "1          0               1        112542.58  \n",
       "2          1               0        113931.57  \n",
       "3          0               0         93826.63  \n",
       "4          1               1         79084.10  "
      ]
     },
     "execution_count": 23,
     "metadata": {},
     "output_type": "execute_result"
    }
   ],
   "source": [
    "x.head()"
   ]
  },
  {
   "cell_type": "code",
   "execution_count": 24,
   "metadata": {},
   "outputs": [],
   "source": [
    "x_train,x_test,y_train,y_test=train_test_split(x,y,test_size=.3,random_state=42)"
   ]
  },
  {
   "cell_type": "code",
   "execution_count": 25,
   "metadata": {},
   "outputs": [
    {
     "name": "stdout",
     "output_type": "stream",
     "text": [
      "Transaction Number x_train dataset:  (7000, 10)\n",
      "Transaction Number y_train dataset:  (7000,)\n",
      "Transaction Number x_test dataset:  (3000, 10)\n",
      "Transaction Number y_test dataset:  (3000,)\n",
      "Counts of label '1': 1453\n",
      "Counts of label '0': 5547 \n",
      "\n"
     ]
    }
   ],
   "source": [
    "# Details of training dataset\n",
    "print(\"Transaction Number x_train dataset: \", x_train.shape)\n",
    "print(\"Transaction Number y_train dataset: \", y_train.shape)\n",
    "print(\"Transaction Number x_test dataset: \", x_test.shape)\n",
    "print(\"Transaction Number y_test dataset: \", y_test.shape)\n",
    "print(\"Counts of label '1': {}\".format(sum(y_train==1)))\n",
    "print(\"Counts of label '0': {} \\n\".format(sum(y_train==0)))"
   ]
  },
  {
   "cell_type": "markdown",
   "metadata": {},
   "source": [
    "Since there are only 10 features in our train and test datasets, there is no need to perform feature reduction. Let us understand the feature importance through SelectKBest"
   ]
  },
  {
   "cell_type": "code",
   "execution_count": 26,
   "metadata": {},
   "outputs": [
    {
     "name": "stdout",
     "output_type": "stream",
     "text": [
      "      Feature_Name       Score\n",
      "3              Age  621.256581\n",
      "8   IsActiveMember  174.139240\n",
      "5          Balance  104.241621\n",
      "2           Gender   85.618179\n",
      "6    NumOfProducts   19.021790\n",
      "1        Geography    9.799450\n",
      "0      CreditScore    5.859852\n",
      "4           Tenure    2.764884\n",
      "7        HasCrCard    1.878124\n",
      "9  EstimatedSalary    0.247795\n"
     ]
    }
   ],
   "source": [
    "# Determine 10 best features using SelectKBest\n",
    "best_features = SelectKBest(score_func=f_classif, k=10)\n",
    "fit = best_features.fit(x_train,y_train)\n",
    "df_scores = pd.DataFrame(fit.scores_)\n",
    "df_columns = pd.DataFrame(x_train.columns)\n",
    "# concatenate dataframes\n",
    "feature_scores = pd.concat([df_columns, df_scores],axis=1)\n",
    "feature_scores.columns = ['Feature_Name','Score']  # name output columns\n",
    "print(feature_scores.nlargest(10,'Score'))         # print all 10 features in the order"
   ]
  },
  {
   "cell_type": "code",
   "execution_count": 27,
   "metadata": {},
   "outputs": [
    {
     "data": {
      "image/png": "[encoded data removed]",
      "text/plain": [
       "<Figure size 432x288 with 1 Axes>"
      ]
     },
     "metadata": {
      "needs_background": "light"
     },
     "output_type": "display_data"
    }
   ],
   "source": [
    "# Bar plot showing features in the order of score\n",
    "tmp = feature_scores.sort_values(by='Score',ascending=False) \n",
    "plt.title('Features importance',fontsize=14) \n",
    "s = sns.barplot(x='Feature_Name',y='Score',data=tmp) \n",
    "s.set_xticklabels(s.get_xticklabels(),rotation=90) \n",
    "plt.show()"
   ]
  },
  {
   "cell_type": "markdown",
   "metadata": {},
   "source": [
    "### Model Evaluation & Selection"
   ]
  },
  {
   "cell_type": "code",
   "execution_count": 28,
   "metadata": {},
   "outputs": [],
   "source": [
    "# calculate precision recall area under curve\n",
    "def preci_auc(y_true, pred_prob):\n",
    "   # calculate precision-recall curve\n",
    "    p, r, _ = precision_recall_curve(y_true, pred_prob)\n",
    "    # calculate area under curve\n",
    "    return auc(r, p)"
   ]
  },
  {
   "cell_type": "code",
   "execution_count": 29,
   "metadata": {},
   "outputs": [],
   "source": [
    "# Evaluate a model\n",
    "def evaluate_model(X, y, model):\n",
    "    # Define evaluation procedure\n",
    "    CV = RepeatedStratifiedKFold(n_splits=10, n_repeats=3, random_state=1)\n",
    "    # Define the model evaluation the metric\n",
    "    metric = make_scorer(preci_auc, needs_proba=True)\n",
    "    # Evaluate model\n",
    "    scores = cross_val_score(model, X, y, scoring='roc_auc', cv=CV, n_jobs=-1)\n",
    "    return scores"
   ]
  },
  {
   "cell_type": "code",
   "execution_count": 30,
   "metadata": {},
   "outputs": [],
   "source": [
    "# Define reference model\n",
    "model = DummyClassifier(strategy='constant', constant=1)"
   ]
  },
  {
   "cell_type": "code",
   "execution_count": 31,
   "metadata": {},
   "outputs": [
    {
     "name": "stdout",
     "output_type": "stream",
     "text": [
      "Mean area under curve: 0.500 (0.000)\n"
     ]
    }
   ],
   "source": [
    "# define the reference model\n",
    "\n",
    "model = DummyClassifier(strategy='constant', constant=1)\n",
    "# Evaluate the model\n",
    "scores = evaluate_model(x_train, y_train, model)\n",
    "# summarize performance\n",
    "print('Mean area under curve: %.3f (%.3f)' % (mean(scores), std(scores)))"
   ]
  },
  {
   "cell_type": "code",
   "execution_count": 32,
   "metadata": {},
   "outputs": [],
   "source": [
    "# Normalizing the data could improve the performance of the model\n",
    "\n",
    "scaler = StandardScaler()\n",
    "scaler.fit(x_train)\n",
    "x_train_norm = scaler.transform(x_train)\n",
    "x_test_norm = scaler.transform(x_test)"
   ]
  },
  {
   "cell_type": "code",
   "execution_count": 33,
   "metadata": {},
   "outputs": [],
   "source": [
    "def model_val(X, y, classifier, scor, show):\n",
    "  X = np.array(X)\n",
    "  y = np.array(y)\n",
    "\n",
    "  scores = cross_val_score(classifier, X, y, scoring=scor)\n",
    "\n",
    "  if show == True:\n",
    "    print(\"Score: {:.2f} (+/- {:.2f})\".format(scores.mean(), scores.std()))\n",
    "  \n",
    "  return scores.mean()"
   ]
  },
  {
   "cell_type": "code",
   "execution_count": 34,
   "metadata": {},
   "outputs": [
    {
     "name": "stdout",
     "output_type": "stream",
     "text": [
      "Score: 0.85 (+/- 0.01)\n",
      "Score: 0.69 (+/- 0.01)\n",
      "Score: 0.66 (+/- 0.03)\n",
      "Score: 0.75 (+/- 0.02)\n",
      "Score: 0.78 (+/- 0.01)\n",
      "Score: 0.82 (+/- 0.02)\n",
      "Score: 0.80 (+/- 0.01)\n"
     ]
    },
    {
     "data": {
      "text/html": [
       "<div>\n",
       "<style scoped>\n",
       "    .dataframe tbody tr th:only-of-type {\n",
       "        vertical-align: middle;\n",
       "    }\n",
       "\n",
       "    .dataframe tbody tr th {\n",
       "        vertical-align: top;\n",
       "    }\n",
       "\n",
       "    .dataframe thead th {\n",
       "        text-align: right;\n",
       "    }\n",
       "</style>\n",
       "<table border=\"1\" class=\"dataframe\">\n",
       "  <thead>\n",
       "    <tr style=\"text-align: right;\">\n",
       "      <th></th>\n",
       "      <th>roc_auc</th>\n",
       "    </tr>\n",
       "  </thead>\n",
       "  <tbody>\n",
       "    <tr>\n",
       "      <th>RandomForestClassifier</th>\n",
       "      <td>0.847526</td>\n",
       "    </tr>\n",
       "    <tr>\n",
       "      <th>DecisionTreeClassifier</th>\n",
       "      <td>0.688952</td>\n",
       "    </tr>\n",
       "    <tr>\n",
       "      <th>SGDClassifier</th>\n",
       "      <td>0.664615</td>\n",
       "    </tr>\n",
       "    <tr>\n",
       "      <th>LogisticRegression</th>\n",
       "      <td>0.752895</td>\n",
       "    </tr>\n",
       "    <tr>\n",
       "      <th>KNeighborsClassifier</th>\n",
       "      <td>0.781499</td>\n",
       "    </tr>\n",
       "    <tr>\n",
       "      <th>SVC</th>\n",
       "      <td>0.822679</td>\n",
       "    </tr>\n",
       "    <tr>\n",
       "      <th>GaussianNB</th>\n",
       "      <td>0.803606</td>\n",
       "    </tr>\n",
       "  </tbody>\n",
       "</table>\n",
       "</div>"
      ],
      "text/plain": [
       "                         roc_auc\n",
       "RandomForestClassifier  0.847526\n",
       "DecisionTreeClassifier  0.688952\n",
       "SGDClassifier           0.664615\n",
       "LogisticRegression      0.752895\n",
       "KNeighborsClassifier    0.781499\n",
       "SVC                     0.822679\n",
       "GaussianNB              0.803606"
      ]
     },
     "execution_count": 34,
     "metadata": {},
     "output_type": "execute_result"
    }
   ],
   "source": [
    "# List of models\n",
    "\n",
    "rfc = RandomForestClassifier()\n",
    "ctc = DecisionTreeClassifier()\n",
    "sglc = SGDClassifier()\n",
    "lr = LogisticRegression()\n",
    "knn = KNeighborsClassifier()\n",
    "svm = SVC()\n",
    "gnb = GaussianNB()\n",
    "\n",
    "\n",
    "model = []\n",
    "score = []\n",
    "\n",
    "# Check model score\n",
    "for classifier in (rfc, ctc, sglc, lr, knn, svm, gnb):\n",
    "    model.append(classifier.__class__.__name__)\n",
    "    score.append(model_val(x_train_norm, y_train, classifier, scor='roc_auc', show=True))\n",
    "\n",
    "pd.DataFrame(data=score, index=model, columns=['roc_auc'])"
   ]
  },
  {
   "cell_type": "markdown",
   "metadata": {},
   "source": [
    "From the model score comparison we can see random forest classification gave the best result."
   ]
  },
  {
   "cell_type": "markdown",
   "metadata": {},
   "source": [
    "Now let us perform some tuning on our top 3 models - Random Forest Classifier, SVC and GaussianNB"
   ]
  },
  {
   "cell_type": "markdown",
   "metadata": {},
   "source": [
    "#### Random Forest Model - HyperParameter Tuning"
   ]
  },
  {
   "cell_type": "code",
   "execution_count": 35,
   "metadata": {},
   "outputs": [
    {
     "data": {
      "text/plain": [
       "GridSearchCV(estimator=RandomForestClassifier(), n_jobs=-1,\n",
       "             param_grid=[{'criterion': ['entropy', 'gini'],\n",
       "                          'max_features': ['sqrt'],\n",
       "                          'n_estimators': [10, 25, 50, 100, 500]}],\n",
       "             scoring='roc_auc')"
      ]
     },
     "execution_count": 35,
     "metadata": {},
     "output_type": "execute_result"
    }
   ],
   "source": [
    "# Hyperparameter tuning using Grid Search\n",
    "\n",
    "parameters_rfc = [{'n_estimators': [10,25,50,100,500] , 'criterion': ['entropy', 'gini'], 'max_features': ['sqrt']}]\n",
    "grid_search_rfc = GridSearchCV(estimator = RandomForestClassifier(),\n",
    "                           param_grid = parameters_rfc,\n",
    "                           scoring = 'roc_auc',\n",
    "                           n_jobs = -1)\n",
    "grid_search_rfc.fit(x_train_norm, y_train)"
   ]
  },
  {
   "cell_type": "code",
   "execution_count": 36,
   "metadata": {},
   "outputs": [
    {
     "name": "stdout",
     "output_type": "stream",
     "text": [
      "Best Score:  0.86\n",
      "Best Parameters:  {'criterion': 'entropy', 'max_features': 'sqrt', 'n_estimators': 500}\n"
     ]
    }
   ],
   "source": [
    "print('Best Score: ', grid_search_rfc.best_score_.round(2))\n",
    "print('Best Parameters: ', grid_search_rfc.best_params_)"
   ]
  },
  {
   "cell_type": "code",
   "execution_count": 37,
   "metadata": {},
   "outputs": [
    {
     "name": "stdout",
     "output_type": "stream",
     "text": [
      "Confusion Matrix - Random Forest\n",
      "[[2344   72]\n",
      " [ 316  268]] \n",
      "\n",
      "Classification report - Random Forest\n",
      "              precision    recall  f1-score   support\n",
      "\n",
      "           0     0.8812    0.9702    0.9236      2416\n",
      "           1     0.7882    0.4589    0.5801       584\n",
      "\n",
      "    accuracy                         0.8707      3000\n",
      "   macro avg     0.8347    0.7146    0.7518      3000\n",
      "weighted avg     0.8631    0.8707    0.8567      3000\n",
      "\n",
      "Scalar Metrics - Random Forest\n",
      "        AUROC = 0.8610\n"
     ]
    }
   ],
   "source": [
    "y_pred_rfc = grid_search_rfc.predict(x_test_norm)\n",
    "# Decimal places based on number of samples\n",
    "dec = np.int64(np.ceil(np.log10(len(y_test))))\n",
    "    \n",
    "print('Confusion Matrix - Random Forest')\n",
    "print(confusion_matrix(y_test, y_pred_rfc), '\\n')\n",
    "    \n",
    "print('Classification report - Random Forest')\n",
    "print(classification_report(y_test, y_pred_rfc, digits=dec))\n",
    "    \n",
    "print('Scalar Metrics - Random Forest')\n",
    "format_str = '%%13s = %%.%if' % dec\n",
    "if y_test.nunique() <= 2: # metrics for binary classification\n",
    "    try:\n",
    "        y_score = grid_search_rfc.predict_proba(x_test_norm)[:,1]\n",
    "    except:\n",
    "        y_score = grid_search_rfc.decision_function(x_test_norm)\n",
    "    print(format_str % ('AUROC', roc_auc_score(y_test, y_score)))"
   ]
  },
  {
   "cell_type": "code",
   "execution_count": 38,
   "metadata": {},
   "outputs": [
    {
     "data": {
      "image/png": "[encoded data removed]",
      "text/plain": [
       "<Figure size 432x288 with 2 Axes>"
      ]
     },
     "metadata": {
      "needs_background": "light"
     },
     "output_type": "display_data"
    }
   ],
   "source": [
    "# Plot confusion matrix\n",
    "\n",
    "skplt.metrics.plot_confusion_matrix(y_test, y_pred_rfc)\n",
    "plt.title('Random Forest Confusion Matrix')\n",
    "plt.show()"
   ]
  },
  {
   "cell_type": "markdown",
   "metadata": {},
   "source": [
    "#### SVC Model - HyperParameter Tuning"
   ]
  },
  {
   "cell_type": "code",
   "execution_count": 39,
   "metadata": {},
   "outputs": [
    {
     "data": {
      "text/plain": [
       "GridSearchCV(estimator=SVC(),\n",
       "             param_grid=[{'C': [1, 10], 'kernel': ('linear', 'rbf')}],\n",
       "             scoring='roc_auc')"
      ]
     },
     "execution_count": 39,
     "metadata": {},
     "output_type": "execute_result"
    }
   ],
   "source": [
    "# Hyperparameter tuning using Grid Search\n",
    "\n",
    "parameters_svm = [{'C': [1, 10], 'kernel': ('linear', 'rbf')}]\n",
    "grid_search_svm = GridSearchCV(estimator=SVC(),\n",
    "             param_grid=parameters_svm, scoring='roc_auc')\n",
    "grid_search_svm.fit(x_train_norm, y_train)"
   ]
  },
  {
   "cell_type": "code",
   "execution_count": 40,
   "metadata": {},
   "outputs": [
    {
     "name": "stdout",
     "output_type": "stream",
     "text": [
      "Best Score:  0.82\n",
      "Best Parameters:  {'C': 1, 'kernel': 'rbf'}\n"
     ]
    }
   ],
   "source": [
    "print('Best Score: ', grid_search_svm.best_score_.round(2))\n",
    "print('Best Parameters: ', grid_search_svm.best_params_)"
   ]
  },
  {
   "cell_type": "code",
   "execution_count": 41,
   "metadata": {},
   "outputs": [
    {
     "name": "stdout",
     "output_type": "stream",
     "text": [
      "Confusion Matrix\n",
      "[[2372   44]\n",
      " [ 367  217]] \n",
      "\n",
      "Classification report\n",
      "              precision    recall  f1-score   support\n",
      "\n",
      "           0     0.8660    0.9818    0.9203      2416\n",
      "           1     0.8314    0.3716    0.5136       584\n",
      "\n",
      "    accuracy                         0.8630      3000\n",
      "   macro avg     0.8487    0.6767    0.7169      3000\n",
      "weighted avg     0.8593    0.8630    0.8411      3000\n",
      "\n",
      "Scalar Metrics\n",
      "        AUROC = 0.8216\n"
     ]
    }
   ],
   "source": [
    "y_pred_svm = grid_search_svm.predict(x_test_norm)\n",
    "# Decimal places based on number of samples\n",
    "dec = np.int64(np.ceil(np.log10(len(y_test))))\n",
    "    \n",
    "print('Confusion Matrix')\n",
    "print(confusion_matrix(y_test, y_pred_svm), '\\n')\n",
    "    \n",
    "print('Classification report')\n",
    "print(classification_report(y_test, y_pred_svm, digits=dec))\n",
    "    \n",
    "print('Scalar Metrics')\n",
    "format_str = '%%13s = %%.%if' % dec\n",
    "if y_test.nunique() <= 2: # metrics for binary classification\n",
    "    try:\n",
    "        y_score = grid_search_svm.predict_proba(x_test_norm)[:,1]\n",
    "    except:\n",
    "        y_score = grid_search_svm.decision_function(x_test_norm)\n",
    "    print(format_str % ('AUROC', roc_auc_score(y_test, y_score)))"
   ]
  },
  {
   "cell_type": "code",
   "execution_count": 42,
   "metadata": {},
   "outputs": [
    {
     "data": {
      "image/png": "[encoded data removed]",
      "text/plain": [
       "<Figure size 432x288 with 2 Axes>"
      ]
     },
     "metadata": {
      "needs_background": "light"
     },
     "output_type": "display_data"
    }
   ],
   "source": [
    "# Plot confusion matrix\n",
    "\n",
    "skplt.metrics.plot_confusion_matrix(y_test, y_pred_svm)\n",
    "plt.title('SVC Confusion Matrix')\n",
    "plt.show()"
   ]
  },
  {
   "cell_type": "markdown",
   "metadata": {},
   "source": [
    "#### GaussianNB Model - HyperParameter Tuning"
   ]
  },
  {
   "cell_type": "code",
   "execution_count": 43,
   "metadata": {},
   "outputs": [
    {
     "name": "stdout",
     "output_type": "stream",
     "text": [
      "Fitting 5 folds for each of 100 candidates, totalling 500 fits\n"
     ]
    },
    {
     "data": {
      "text/plain": [
       "GridSearchCV(estimator=GaussianNB(),\n",
       "             param_grid={'var_smoothing': array([1.00000000e+00, 8.11130831e-01, 6.57933225e-01, 5.33669923e-01,\n",
       "       4.32876128e-01, 3.51119173e-01, 2.84803587e-01, 2.31012970e-01,\n",
       "       1.87381742e-01, 1.51991108e-01, 1.23284674e-01, 1.00000000e-01,\n",
       "       8.11130831e-02, 6.57933225e-02, 5.33669923e-02, 4.32876128e-02,\n",
       "       3.51119173e-02, 2.84803587e-02, 2.3101297...\n",
       "       1.23284674e-07, 1.00000000e-07, 8.11130831e-08, 6.57933225e-08,\n",
       "       5.33669923e-08, 4.32876128e-08, 3.51119173e-08, 2.84803587e-08,\n",
       "       2.31012970e-08, 1.87381742e-08, 1.51991108e-08, 1.23284674e-08,\n",
       "       1.00000000e-08, 8.11130831e-09, 6.57933225e-09, 5.33669923e-09,\n",
       "       4.32876128e-09, 3.51119173e-09, 2.84803587e-09, 2.31012970e-09,\n",
       "       1.87381742e-09, 1.51991108e-09, 1.23284674e-09, 1.00000000e-09])},\n",
       "             scoring='roc_auc', verbose=1)"
      ]
     },
     "execution_count": 43,
     "metadata": {},
     "output_type": "execute_result"
    }
   ],
   "source": [
    "nb_classifier = GaussianNB()\n",
    "\n",
    "parameters_nb = {'var_smoothing': np.logspace(0,-9, num=100)}\n",
    "grid_search_nb = GridSearchCV(estimator=GaussianNB(), \n",
    "                 param_grid=parameters_nb, \n",
    "                 verbose=1, \n",
    "                 scoring='roc_auc') \n",
    "grid_search_nb.fit(x_train_norm, y_train)"
   ]
  },
  {
   "cell_type": "code",
   "execution_count": 44,
   "metadata": {},
   "outputs": [
    {
     "name": "stdout",
     "output_type": "stream",
     "text": [
      "Best Score:  0.8\n",
      "Best Parameters:  {'var_smoothing': 3.511191734215127e-05}\n"
     ]
    }
   ],
   "source": [
    "print('Best Score: ', grid_search_nb.best_score_.round(2))\n",
    "print('Best Parameters: ', grid_search_nb.best_params_)"
   ]
  },
  {
   "cell_type": "code",
   "execution_count": 45,
   "metadata": {},
   "outputs": [
    {
     "name": "stdout",
     "output_type": "stream",
     "text": [
      "Confusion Matrix - GaussianNB\n",
      "[[2356   60]\n",
      " [ 437  147]] \n",
      "\n",
      "Classification report - GaussianNB\n",
      "              precision    recall  f1-score   support\n",
      "\n",
      "           0     0.8435    0.9752    0.9046      2416\n",
      "           1     0.7101    0.2517    0.3717       584\n",
      "\n",
      "    accuracy                         0.8343      3000\n",
      "   macro avg     0.7768    0.6134    0.6381      3000\n",
      "weighted avg     0.8176    0.8343    0.8008      3000\n",
      "\n",
      "Scalar Metrics - GaussianNB\n",
      "        AUROC = 0.8085\n"
     ]
    }
   ],
   "source": [
    "y_pred_nb = grid_search_nb.predict(x_test_norm)\n",
    "# Decimal places based on number of samples\n",
    "dec = np.int64(np.ceil(np.log10(len(y_test))))\n",
    "    \n",
    "print('Confusion Matrix - GaussianNB')\n",
    "print(confusion_matrix(y_test, y_pred_nb), '\\n')\n",
    "    \n",
    "print('Classification report - GaussianNB')\n",
    "print(classification_report(y_test, y_pred_nb, digits=dec))\n",
    "    \n",
    "print('Scalar Metrics - GaussianNB')\n",
    "format_str = '%%13s = %%.%if' % dec\n",
    "if y_test.nunique() <= 2: # metrics for binary classification\n",
    "    try:\n",
    "        y_score = grid_search_nb.predict_proba(x_test_norm)[:,1]\n",
    "    except:\n",
    "        y_score = grid_search_nb.decision_function(x_test_norm)\n",
    "    print(format_str % ('AUROC', roc_auc_score(y_test, y_score)))"
   ]
  },
  {
   "cell_type": "code",
   "execution_count": 46,
   "metadata": {},
   "outputs": [
    {
     "data": {
      "image/png": "[encoded data removed]",
      "text/plain": [
       "<Figure size 432x288 with 2 Axes>"
      ]
     },
     "metadata": {
      "needs_background": "light"
     },
     "output_type": "display_data"
    }
   ],
   "source": [
    "# Plot confusion matrix\n",
    "\n",
    "skplt.metrics.plot_confusion_matrix(y_test, y_pred_nb)\n",
    "plt.title('GaussianNB Confusion Matrix')\n",
    "plt.show()"
   ]
  },
  {
   "attachments": {},
   "cell_type": "markdown",
   "metadata": {},
   "source": [
    "### Conclusion\n",
    "  \n",
    "While banks are always on a lookout for new customers, it is very important to make sure to keep the existing customer base happy. Customer retention increases banks customers' lifetime value and boosts banks revenue. It also helps the bank to build amazing relationships with the customers. They trust the bank with their money based on the value they receive in exchange. Existing customers can drive repeat business, increase revenue, create brand ambassadors, defend against competition and gain valuable feedback.  \n",
    "\n",
    "With the help of machine learning algorithms, banks will be able to predict who are the customers who are at risk of closing the accounts with the bank and also determine the factors which are leading to customer churn in their bank.   \n",
    "  \n",
    "- As proven by SelectKBest, ‘Age’ plays a major factor in employee attrition. \n",
    "- Using Random Forest Model our model will correctly predict if customers will leave the bank or not 86.1% of the time.\n",
    "- Support Vector Classifier model will correctly predict if customers will leave the bank or not 82.16% of the time.\n",
    "- Gaussian Naive Bayes model will correctly predict if customers will leave the bank or not 80.85% of the time.\n",
    "- Random forest model has fewer false positives than Support Vector Classifier model or Gaussian Naive Bayes model making it a better model."
   ]
  },
  {
   "cell_type": "code",
   "execution_count": null,
   "metadata": {},
   "outputs": [],
   "source": []
  }
 ],
 "metadata": {
  "kernelspec": {
   "display_name": "Python 3",
   "language": "python",
   "name": "python3"
  },
  "language_info": {
   "codemirror_mode": {
    "name": "ipython",
    "version": 3
   },
   "file_extension": ".py",
   "mimetype": "text/x-python",
   "name": "python",
   "nbconvert_exporter": "python",
   "pygments_lexer": "ipython3",
   "version": "3.7.6"
  }
 },
 "nbformat": 4,
 "nbformat_minor": 4
}
