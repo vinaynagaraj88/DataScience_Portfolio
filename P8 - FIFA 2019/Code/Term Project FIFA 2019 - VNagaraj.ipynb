{
 "cells": [
  {
   "cell_type": "markdown",
   "metadata": {},
   "source": [
    "<font size=\"4\"> **Name : Vinay Nagaraj<br>\n",
    "Class : DSC530-T301<br>\n",
    "Assignment : Term project that takes you through an exploratory data analysis project.**</font>"
   ]
  },
  {
   "cell_type": "code",
   "execution_count": 75,
   "metadata": {},
   "outputs": [],
   "source": [
    "import numpy as np # linear algebra\n",
    "import pandas as pd # data processing, CSV file I/O\n",
    "import matplotlib.pyplot as plt        # plotting\n",
    "import thinkplot\n",
    "import os                              # accessing directory structure\n",
    "import thinkstats2\n",
    "import hypothesis\n",
    "import statsmodels.formula.api as smf"
   ]
  },
  {
   "cell_type": "markdown",
   "metadata": {},
   "source": [
    "**Read FIFA_data.csv file**"
   ]
  },
  {
   "cell_type": "code",
   "execution_count": 76,
   "metadata": {},
   "outputs": [],
   "source": [
    "df_fifa2019 = pd.read_csv(\"FIFA_data.csv\")\n",
    "fifa2019 = df_fifa2019.copy()"
   ]
  },
  {
   "cell_type": "code",
   "execution_count": 77,
   "metadata": {},
   "outputs": [
    {
     "name": "stdout",
     "output_type": "stream",
     "text": [
      "<class 'pandas.core.frame.DataFrame'>\n",
      "RangeIndex: 18206 entries, 0 to 18205\n",
      "Data columns (total 89 columns):\n",
      " #   Column                    Non-Null Count  Dtype  \n",
      "---  ------                    --------------  -----  \n",
      " 0   Unnamed: 0                18206 non-null  int64  \n",
      " 1   ID                        18206 non-null  int64  \n",
      " 2   Name                      18206 non-null  object \n",
      " 3   Age                       18206 non-null  int64  \n",
      " 4   Photo                     18206 non-null  object \n",
      " 5   Nationality               18206 non-null  object \n",
      " 6   Flag                      18206 non-null  object \n",
      " 7   Overall                   18206 non-null  int64  \n",
      " 8   Potential                 18206 non-null  int64  \n",
      " 9   Club                      17965 non-null  object \n",
      " 10  Club Logo                 18206 non-null  object \n",
      " 11  Value                     18206 non-null  object \n",
      " 12  Wage                      18206 non-null  object \n",
      " 13  Special                   18206 non-null  int64  \n",
      " 14  Preferred Foot            18158 non-null  object \n",
      " 15  International Reputation  18158 non-null  float64\n",
      " 16  Weak Foot                 18158 non-null  float64\n",
      " 17  Skill Moves               18158 non-null  float64\n",
      " 18  Work Rate                 18158 non-null  object \n",
      " 19  Body Type                 18158 non-null  object \n",
      " 20  Real Face                 18158 non-null  object \n",
      " 21  Position                  18146 non-null  object \n",
      " 22  Jersey Number             18146 non-null  float64\n",
      " 23  Joined                    16653 non-null  object \n",
      " 24  Loaned From               1264 non-null   object \n",
      " 25  Contract Valid Until      17917 non-null  object \n",
      " 26  Height                    18158 non-null  object \n",
      " 27  Weight                    18158 non-null  object \n",
      " 28  LS                        16121 non-null  object \n",
      " 29  ST                        16121 non-null  object \n",
      " 30  RS                        16121 non-null  object \n",
      " 31  LW                        16121 non-null  object \n",
      " 32  LF                        16121 non-null  object \n",
      " 33  CF                        16121 non-null  object \n",
      " 34  RF                        16121 non-null  object \n",
      " 35  RW                        16121 non-null  object \n",
      " 36  LAM                       16121 non-null  object \n",
      " 37  CAM                       16121 non-null  object \n",
      " 38  RAM                       16121 non-null  object \n",
      " 39  LM                        16121 non-null  object \n",
      " 40  LCM                       16121 non-null  object \n",
      " 41  CM                        16121 non-null  object \n",
      " 42  RCM                       16121 non-null  object \n",
      " 43  RM                        16121 non-null  object \n",
      " 44  LWB                       16121 non-null  object \n",
      " 45  LDM                       16121 non-null  object \n",
      " 46  CDM                       16121 non-null  object \n",
      " 47  RDM                       16121 non-null  object \n",
      " 48  RWB                       16121 non-null  object \n",
      " 49  LB                        16121 non-null  object \n",
      " 50  LCB                       16121 non-null  object \n",
      " 51  CB                        16121 non-null  object \n",
      " 52  RCB                       16121 non-null  object \n",
      " 53  RB                        16121 non-null  object \n",
      " 54  Crossing                  18158 non-null  float64\n",
      " 55  Finishing                 18158 non-null  float64\n",
      " 56  HeadingAccuracy           18158 non-null  float64\n",
      " 57  ShortPassing              18158 non-null  float64\n",
      " 58  Volleys                   18158 non-null  float64\n",
      " 59  Dribbling                 18158 non-null  float64\n",
      " 60  Curve                     18158 non-null  float64\n",
      " 61  FKAccuracy                18158 non-null  float64\n",
      " 62  LongPassing               18158 non-null  float64\n",
      " 63  BallControl               18158 non-null  float64\n",
      " 64  Acceleration              18158 non-null  float64\n",
      " 65  SprintSpeed               18158 non-null  float64\n",
      " 66  Agility                   18158 non-null  float64\n",
      " 67  Reactions                 18158 non-null  float64\n",
      " 68  Balance                   18158 non-null  float64\n",
      " 69  ShotPower                 18158 non-null  float64\n",
      " 70  Jumping                   18158 non-null  float64\n",
      " 71  Stamina                   18158 non-null  float64\n",
      " 72  Strength                  18158 non-null  float64\n",
      " 73  LongShots                 18158 non-null  float64\n",
      " 74  Aggression                18158 non-null  float64\n",
      " 75  Interceptions             18158 non-null  float64\n",
      " 76  Positioning               18158 non-null  float64\n",
      " 77  Vision                    18158 non-null  float64\n",
      " 78  Penalties                 18158 non-null  float64\n",
      " 79  Composure                 18158 non-null  float64\n",
      " 80  Marking                   18158 non-null  float64\n",
      " 81  StandingTackle            18158 non-null  float64\n",
      " 82  SlidingTackle             18158 non-null  float64\n",
      " 83  GKDiving                  18158 non-null  float64\n",
      " 84  GKHandling                18158 non-null  float64\n",
      " 85  GKKicking                 18158 non-null  float64\n",
      " 86  GKPositioning             18158 non-null  float64\n",
      " 87  GKReflexes                18158 non-null  float64\n",
      " 88  Release Clause            16642 non-null  object \n",
      "dtypes: float64(38), int64(6), object(45)\n",
      "memory usage: 12.4+ MB\n"
     ]
    }
   ],
   "source": [
    "fifa2019.info()"
   ]
  },
  {
   "cell_type": "code",
   "execution_count": 78,
   "metadata": {},
   "outputs": [
    {
     "data": {
      "text/html": [
       "<div>\n",
       "<style scoped>\n",
       "    .dataframe tbody tr th:only-of-type {\n",
       "        vertical-align: middle;\n",
       "    }\n",
       "\n",
       "    .dataframe tbody tr th {\n",
       "        vertical-align: top;\n",
       "    }\n",
       "\n",
       "    .dataframe thead th {\n",
       "        text-align: right;\n",
       "    }\n",
       "</style>\n",
       "<table border=\"1\" class=\"dataframe\">\n",
       "  <thead>\n",
       "    <tr style=\"text-align: right;\">\n",
       "      <th></th>\n",
       "      <th>Unnamed: 0</th>\n",
       "      <th>ID</th>\n",
       "      <th>Name</th>\n",
       "      <th>Age</th>\n",
       "      <th>Photo</th>\n",
       "      <th>Nationality</th>\n",
       "      <th>Flag</th>\n",
       "      <th>Overall</th>\n",
       "      <th>Potential</th>\n",
       "      <th>Club</th>\n",
       "      <th>...</th>\n",
       "      <th>Composure</th>\n",
       "      <th>Marking</th>\n",
       "      <th>StandingTackle</th>\n",
       "      <th>SlidingTackle</th>\n",
       "      <th>GKDiving</th>\n",
       "      <th>GKHandling</th>\n",
       "      <th>GKKicking</th>\n",
       "      <th>GKPositioning</th>\n",
       "      <th>GKReflexes</th>\n",
       "      <th>Release Clause</th>\n",
       "    </tr>\n",
       "  </thead>\n",
       "  <tbody>\n",
       "    <tr>\n",
       "      <th>0</th>\n",
       "      <td>0</td>\n",
       "      <td>158023</td>\n",
       "      <td>L. Messi</td>\n",
       "      <td>31</td>\n",
       "      <td>https://cdn.sofifa.org/players/4/19/158023.png</td>\n",
       "      <td>Argentina</td>\n",
       "      <td>https://cdn.sofifa.org/flags/52.png</td>\n",
       "      <td>94</td>\n",
       "      <td>94</td>\n",
       "      <td>FC Barcelona</td>\n",
       "      <td>...</td>\n",
       "      <td>96.0</td>\n",
       "      <td>33.0</td>\n",
       "      <td>28.0</td>\n",
       "      <td>26.0</td>\n",
       "      <td>6.0</td>\n",
       "      <td>11.0</td>\n",
       "      <td>15.0</td>\n",
       "      <td>14.0</td>\n",
       "      <td>8.0</td>\n",
       "      <td>€226.5M</td>\n",
       "    </tr>\n",
       "    <tr>\n",
       "      <th>1</th>\n",
       "      <td>1</td>\n",
       "      <td>20801</td>\n",
       "      <td>Cristiano Ronaldo</td>\n",
       "      <td>33</td>\n",
       "      <td>https://cdn.sofifa.org/players/4/19/20801.png</td>\n",
       "      <td>Portugal</td>\n",
       "      <td>https://cdn.sofifa.org/flags/38.png</td>\n",
       "      <td>94</td>\n",
       "      <td>94</td>\n",
       "      <td>Juventus</td>\n",
       "      <td>...</td>\n",
       "      <td>95.0</td>\n",
       "      <td>28.0</td>\n",
       "      <td>31.0</td>\n",
       "      <td>23.0</td>\n",
       "      <td>7.0</td>\n",
       "      <td>11.0</td>\n",
       "      <td>15.0</td>\n",
       "      <td>14.0</td>\n",
       "      <td>11.0</td>\n",
       "      <td>€127.1M</td>\n",
       "    </tr>\n",
       "    <tr>\n",
       "      <th>2</th>\n",
       "      <td>2</td>\n",
       "      <td>190871</td>\n",
       "      <td>Neymar Jr</td>\n",
       "      <td>26</td>\n",
       "      <td>https://cdn.sofifa.org/players/4/19/190871.png</td>\n",
       "      <td>Brazil</td>\n",
       "      <td>https://cdn.sofifa.org/flags/54.png</td>\n",
       "      <td>92</td>\n",
       "      <td>93</td>\n",
       "      <td>Paris Saint-Germain</td>\n",
       "      <td>...</td>\n",
       "      <td>94.0</td>\n",
       "      <td>27.0</td>\n",
       "      <td>24.0</td>\n",
       "      <td>33.0</td>\n",
       "      <td>9.0</td>\n",
       "      <td>9.0</td>\n",
       "      <td>15.0</td>\n",
       "      <td>15.0</td>\n",
       "      <td>11.0</td>\n",
       "      <td>€228.1M</td>\n",
       "    </tr>\n",
       "    <tr>\n",
       "      <th>3</th>\n",
       "      <td>3</td>\n",
       "      <td>193080</td>\n",
       "      <td>De Gea</td>\n",
       "      <td>27</td>\n",
       "      <td>https://cdn.sofifa.org/players/4/19/193080.png</td>\n",
       "      <td>Spain</td>\n",
       "      <td>https://cdn.sofifa.org/flags/45.png</td>\n",
       "      <td>91</td>\n",
       "      <td>93</td>\n",
       "      <td>Manchester United</td>\n",
       "      <td>...</td>\n",
       "      <td>68.0</td>\n",
       "      <td>15.0</td>\n",
       "      <td>21.0</td>\n",
       "      <td>13.0</td>\n",
       "      <td>90.0</td>\n",
       "      <td>85.0</td>\n",
       "      <td>87.0</td>\n",
       "      <td>88.0</td>\n",
       "      <td>94.0</td>\n",
       "      <td>€138.6M</td>\n",
       "    </tr>\n",
       "    <tr>\n",
       "      <th>4</th>\n",
       "      <td>4</td>\n",
       "      <td>192985</td>\n",
       "      <td>K. De Bruyne</td>\n",
       "      <td>27</td>\n",
       "      <td>https://cdn.sofifa.org/players/4/19/192985.png</td>\n",
       "      <td>Belgium</td>\n",
       "      <td>https://cdn.sofifa.org/flags/7.png</td>\n",
       "      <td>91</td>\n",
       "      <td>92</td>\n",
       "      <td>Manchester City</td>\n",
       "      <td>...</td>\n",
       "      <td>88.0</td>\n",
       "      <td>68.0</td>\n",
       "      <td>58.0</td>\n",
       "      <td>51.0</td>\n",
       "      <td>15.0</td>\n",
       "      <td>13.0</td>\n",
       "      <td>5.0</td>\n",
       "      <td>10.0</td>\n",
       "      <td>13.0</td>\n",
       "      <td>€196.4M</td>\n",
       "    </tr>\n",
       "  </tbody>\n",
       "</table>\n",
       "<p>5 rows × 89 columns</p>\n",
       "</div>"
      ],
      "text/plain": [
       "   Unnamed: 0      ID               Name  Age  \\\n",
       "0           0  158023           L. Messi   31   \n",
       "1           1   20801  Cristiano Ronaldo   33   \n",
       "2           2  190871          Neymar Jr   26   \n",
       "3           3  193080             De Gea   27   \n",
       "4           4  192985       K. De Bruyne   27   \n",
       "\n",
       "                                            Photo Nationality  \\\n",
       "0  https://cdn.sofifa.org/players/4/19/158023.png   Argentina   \n",
       "1   https://cdn.sofifa.org/players/4/19/20801.png    Portugal   \n",
       "2  https://cdn.sofifa.org/players/4/19/190871.png      Brazil   \n",
       "3  https://cdn.sofifa.org/players/4/19/193080.png       Spain   \n",
       "4  https://cdn.sofifa.org/players/4/19/192985.png     Belgium   \n",
       "\n",
       "                                  Flag  Overall  Potential  \\\n",
       "0  https://cdn.sofifa.org/flags/52.png       94         94   \n",
       "1  https://cdn.sofifa.org/flags/38.png       94         94   \n",
       "2  https://cdn.sofifa.org/flags/54.png       92         93   \n",
       "3  https://cdn.sofifa.org/flags/45.png       91         93   \n",
       "4   https://cdn.sofifa.org/flags/7.png       91         92   \n",
       "\n",
       "                  Club  ... Composure Marking StandingTackle  SlidingTackle  \\\n",
       "0         FC Barcelona  ...      96.0    33.0           28.0           26.0   \n",
       "1             Juventus  ...      95.0    28.0           31.0           23.0   \n",
       "2  Paris Saint-Germain  ...      94.0    27.0           24.0           33.0   \n",
       "3    Manchester United  ...      68.0    15.0           21.0           13.0   \n",
       "4      Manchester City  ...      88.0    68.0           58.0           51.0   \n",
       "\n",
       "  GKDiving  GKHandling  GKKicking  GKPositioning GKReflexes Release Clause  \n",
       "0      6.0        11.0       15.0           14.0        8.0        €226.5M  \n",
       "1      7.0        11.0       15.0           14.0       11.0        €127.1M  \n",
       "2      9.0         9.0       15.0           15.0       11.0        €228.1M  \n",
       "3     90.0        85.0       87.0           88.0       94.0        €138.6M  \n",
       "4     15.0        13.0        5.0           10.0       13.0        €196.4M  \n",
       "\n",
       "[5 rows x 89 columns]"
      ]
     },
     "execution_count": 78,
     "metadata": {},
     "output_type": "execute_result"
    }
   ],
   "source": [
    "fifa2019.head()"
   ]
  },
  {
   "cell_type": "code",
   "execution_count": 79,
   "metadata": {},
   "outputs": [
    {
     "data": {
      "text/plain": [
       "Unnamed: 0           0\n",
       "ID                   0\n",
       "Name                 0\n",
       "Age                  0\n",
       "Photo                0\n",
       "                  ... \n",
       "GKHandling          48\n",
       "GKKicking           48\n",
       "GKPositioning       48\n",
       "GKReflexes          48\n",
       "Release Clause    1564\n",
       "Length: 89, dtype: int64"
      ]
     },
     "execution_count": 79,
     "metadata": {},
     "output_type": "execute_result"
    }
   ],
   "source": [
    "fifa2019.isnull().sum()"
   ]
  },
  {
   "cell_type": "markdown",
   "metadata": {},
   "source": [
    "**Data Cleaning:**"
   ]
  },
  {
   "cell_type": "code",
   "execution_count": 80,
   "metadata": {},
   "outputs": [
    {
     "data": {
      "text/html": [
       "<div>\n",
       "<style scoped>\n",
       "    .dataframe tbody tr th:only-of-type {\n",
       "        vertical-align: middle;\n",
       "    }\n",
       "\n",
       "    .dataframe tbody tr th {\n",
       "        vertical-align: top;\n",
       "    }\n",
       "\n",
       "    .dataframe thead th {\n",
       "        text-align: right;\n",
       "    }\n",
       "</style>\n",
       "<table border=\"1\" class=\"dataframe\">\n",
       "  <thead>\n",
       "    <tr style=\"text-align: right;\">\n",
       "      <th></th>\n",
       "      <th>Unnamed: 0</th>\n",
       "      <th>ID</th>\n",
       "      <th>Age</th>\n",
       "      <th>Overall</th>\n",
       "      <th>Potential</th>\n",
       "      <th>Special</th>\n",
       "      <th>International Reputation</th>\n",
       "      <th>Weak Foot</th>\n",
       "      <th>Skill Moves</th>\n",
       "      <th>Jersey Number</th>\n",
       "      <th>...</th>\n",
       "      <th>Penalties</th>\n",
       "      <th>Composure</th>\n",
       "      <th>Marking</th>\n",
       "      <th>StandingTackle</th>\n",
       "      <th>SlidingTackle</th>\n",
       "      <th>GKDiving</th>\n",
       "      <th>GKHandling</th>\n",
       "      <th>GKKicking</th>\n",
       "      <th>GKPositioning</th>\n",
       "      <th>GKReflexes</th>\n",
       "    </tr>\n",
       "  </thead>\n",
       "  <tbody>\n",
       "    <tr>\n",
       "      <th>count</th>\n",
       "      <td>18206.000000</td>\n",
       "      <td>18206.000000</td>\n",
       "      <td>18206.000000</td>\n",
       "      <td>18206.000000</td>\n",
       "      <td>18206.000000</td>\n",
       "      <td>18206.000000</td>\n",
       "      <td>18158.000000</td>\n",
       "      <td>18158.000000</td>\n",
       "      <td>18158.000000</td>\n",
       "      <td>18146.000000</td>\n",
       "      <td>...</td>\n",
       "      <td>18158.000000</td>\n",
       "      <td>18158.000000</td>\n",
       "      <td>18158.000000</td>\n",
       "      <td>18158.000000</td>\n",
       "      <td>18158.000000</td>\n",
       "      <td>18158.000000</td>\n",
       "      <td>18158.000000</td>\n",
       "      <td>18158.000000</td>\n",
       "      <td>18158.000000</td>\n",
       "      <td>18158.000000</td>\n",
       "    </tr>\n",
       "    <tr>\n",
       "      <th>mean</th>\n",
       "      <td>9102.500000</td>\n",
       "      <td>214296.582555</td>\n",
       "      <td>25.122707</td>\n",
       "      <td>66.239811</td>\n",
       "      <td>71.307591</td>\n",
       "      <td>1597.825113</td>\n",
       "      <td>1.113228</td>\n",
       "      <td>2.947296</td>\n",
       "      <td>2.361328</td>\n",
       "      <td>19.545354</td>\n",
       "      <td>...</td>\n",
       "      <td>48.549455</td>\n",
       "      <td>58.649135</td>\n",
       "      <td>47.282024</td>\n",
       "      <td>47.698095</td>\n",
       "      <td>45.661196</td>\n",
       "      <td>16.616588</td>\n",
       "      <td>16.391673</td>\n",
       "      <td>16.232460</td>\n",
       "      <td>16.389140</td>\n",
       "      <td>16.711312</td>\n",
       "    </tr>\n",
       "    <tr>\n",
       "      <th>std</th>\n",
       "      <td>5255.763836</td>\n",
       "      <td>29965.130308</td>\n",
       "      <td>4.669582</td>\n",
       "      <td>6.907491</td>\n",
       "      <td>6.136538</td>\n",
       "      <td>272.585782</td>\n",
       "      <td>0.394041</td>\n",
       "      <td>0.660474</td>\n",
       "      <td>0.756180</td>\n",
       "      <td>15.947892</td>\n",
       "      <td>...</td>\n",
       "      <td>15.704062</td>\n",
       "      <td>11.435858</td>\n",
       "      <td>19.904872</td>\n",
       "      <td>21.664572</td>\n",
       "      <td>21.289697</td>\n",
       "      <td>17.695768</td>\n",
       "      <td>16.907363</td>\n",
       "      <td>16.503232</td>\n",
       "      <td>17.035107</td>\n",
       "      <td>17.955522</td>\n",
       "    </tr>\n",
       "    <tr>\n",
       "      <th>min</th>\n",
       "      <td>0.000000</td>\n",
       "      <td>16.000000</td>\n",
       "      <td>16.000000</td>\n",
       "      <td>47.000000</td>\n",
       "      <td>48.000000</td>\n",
       "      <td>731.000000</td>\n",
       "      <td>1.000000</td>\n",
       "      <td>1.000000</td>\n",
       "      <td>1.000000</td>\n",
       "      <td>1.000000</td>\n",
       "      <td>...</td>\n",
       "      <td>5.000000</td>\n",
       "      <td>3.000000</td>\n",
       "      <td>3.000000</td>\n",
       "      <td>2.000000</td>\n",
       "      <td>3.000000</td>\n",
       "      <td>1.000000</td>\n",
       "      <td>1.000000</td>\n",
       "      <td>1.000000</td>\n",
       "      <td>1.000000</td>\n",
       "      <td>1.000000</td>\n",
       "    </tr>\n",
       "    <tr>\n",
       "      <th>25%</th>\n",
       "      <td>4551.250000</td>\n",
       "      <td>200315.250000</td>\n",
       "      <td>21.000000</td>\n",
       "      <td>62.000000</td>\n",
       "      <td>67.000000</td>\n",
       "      <td>1457.000000</td>\n",
       "      <td>1.000000</td>\n",
       "      <td>3.000000</td>\n",
       "      <td>2.000000</td>\n",
       "      <td>8.000000</td>\n",
       "      <td>...</td>\n",
       "      <td>39.000000</td>\n",
       "      <td>51.000000</td>\n",
       "      <td>30.000000</td>\n",
       "      <td>27.000000</td>\n",
       "      <td>24.000000</td>\n",
       "      <td>8.000000</td>\n",
       "      <td>8.000000</td>\n",
       "      <td>8.000000</td>\n",
       "      <td>8.000000</td>\n",
       "      <td>8.000000</td>\n",
       "    </tr>\n",
       "    <tr>\n",
       "      <th>50%</th>\n",
       "      <td>9102.500000</td>\n",
       "      <td>221757.500000</td>\n",
       "      <td>25.000000</td>\n",
       "      <td>66.000000</td>\n",
       "      <td>71.000000</td>\n",
       "      <td>1635.000000</td>\n",
       "      <td>1.000000</td>\n",
       "      <td>3.000000</td>\n",
       "      <td>2.000000</td>\n",
       "      <td>17.000000</td>\n",
       "      <td>...</td>\n",
       "      <td>49.000000</td>\n",
       "      <td>60.000000</td>\n",
       "      <td>53.000000</td>\n",
       "      <td>55.000000</td>\n",
       "      <td>52.000000</td>\n",
       "      <td>11.000000</td>\n",
       "      <td>11.000000</td>\n",
       "      <td>11.000000</td>\n",
       "      <td>11.000000</td>\n",
       "      <td>11.000000</td>\n",
       "    </tr>\n",
       "    <tr>\n",
       "      <th>75%</th>\n",
       "      <td>13653.750000</td>\n",
       "      <td>236528.500000</td>\n",
       "      <td>28.000000</td>\n",
       "      <td>71.000000</td>\n",
       "      <td>75.000000</td>\n",
       "      <td>1787.000000</td>\n",
       "      <td>1.000000</td>\n",
       "      <td>3.000000</td>\n",
       "      <td>3.000000</td>\n",
       "      <td>26.000000</td>\n",
       "      <td>...</td>\n",
       "      <td>60.000000</td>\n",
       "      <td>67.000000</td>\n",
       "      <td>64.000000</td>\n",
       "      <td>66.000000</td>\n",
       "      <td>64.000000</td>\n",
       "      <td>14.000000</td>\n",
       "      <td>14.000000</td>\n",
       "      <td>14.000000</td>\n",
       "      <td>14.000000</td>\n",
       "      <td>14.000000</td>\n",
       "    </tr>\n",
       "    <tr>\n",
       "      <th>max</th>\n",
       "      <td>18205.000000</td>\n",
       "      <td>246620.000000</td>\n",
       "      <td>45.000000</td>\n",
       "      <td>94.000000</td>\n",
       "      <td>95.000000</td>\n",
       "      <td>2346.000000</td>\n",
       "      <td>5.000000</td>\n",
       "      <td>5.000000</td>\n",
       "      <td>5.000000</td>\n",
       "      <td>99.000000</td>\n",
       "      <td>...</td>\n",
       "      <td>92.000000</td>\n",
       "      <td>96.000000</td>\n",
       "      <td>94.000000</td>\n",
       "      <td>93.000000</td>\n",
       "      <td>91.000000</td>\n",
       "      <td>90.000000</td>\n",
       "      <td>92.000000</td>\n",
       "      <td>91.000000</td>\n",
       "      <td>90.000000</td>\n",
       "      <td>94.000000</td>\n",
       "    </tr>\n",
       "  </tbody>\n",
       "</table>\n",
       "<p>8 rows × 44 columns</p>\n",
       "</div>"
      ],
      "text/plain": [
       "         Unnamed: 0             ID           Age       Overall     Potential  \\\n",
       "count  18206.000000   18206.000000  18206.000000  18206.000000  18206.000000   \n",
       "mean    9102.500000  214296.582555     25.122707     66.239811     71.307591   \n",
       "std     5255.763836   29965.130308      4.669582      6.907491      6.136538   \n",
       "min        0.000000      16.000000     16.000000     47.000000     48.000000   \n",
       "25%     4551.250000  200315.250000     21.000000     62.000000     67.000000   \n",
       "50%     9102.500000  221757.500000     25.000000     66.000000     71.000000   \n",
       "75%    13653.750000  236528.500000     28.000000     71.000000     75.000000   \n",
       "max    18205.000000  246620.000000     45.000000     94.000000     95.000000   \n",
       "\n",
       "            Special  International Reputation     Weak Foot   Skill Moves  \\\n",
       "count  18206.000000              18158.000000  18158.000000  18158.000000   \n",
       "mean    1597.825113                  1.113228      2.947296      2.361328   \n",
       "std      272.585782                  0.394041      0.660474      0.756180   \n",
       "min      731.000000                  1.000000      1.000000      1.000000   \n",
       "25%     1457.000000                  1.000000      3.000000      2.000000   \n",
       "50%     1635.000000                  1.000000      3.000000      2.000000   \n",
       "75%     1787.000000                  1.000000      3.000000      3.000000   \n",
       "max     2346.000000                  5.000000      5.000000      5.000000   \n",
       "\n",
       "       Jersey Number  ...     Penalties     Composure       Marking  \\\n",
       "count   18146.000000  ...  18158.000000  18158.000000  18158.000000   \n",
       "mean       19.545354  ...     48.549455     58.649135     47.282024   \n",
       "std        15.947892  ...     15.704062     11.435858     19.904872   \n",
       "min         1.000000  ...      5.000000      3.000000      3.000000   \n",
       "25%         8.000000  ...     39.000000     51.000000     30.000000   \n",
       "50%        17.000000  ...     49.000000     60.000000     53.000000   \n",
       "75%        26.000000  ...     60.000000     67.000000     64.000000   \n",
       "max        99.000000  ...     92.000000     96.000000     94.000000   \n",
       "\n",
       "       StandingTackle  SlidingTackle      GKDiving    GKHandling  \\\n",
       "count    18158.000000   18158.000000  18158.000000  18158.000000   \n",
       "mean        47.698095      45.661196     16.616588     16.391673   \n",
       "std         21.664572      21.289697     17.695768     16.907363   \n",
       "min          2.000000       3.000000      1.000000      1.000000   \n",
       "25%         27.000000      24.000000      8.000000      8.000000   \n",
       "50%         55.000000      52.000000     11.000000     11.000000   \n",
       "75%         66.000000      64.000000     14.000000     14.000000   \n",
       "max         93.000000      91.000000     90.000000     92.000000   \n",
       "\n",
       "          GKKicking  GKPositioning    GKReflexes  \n",
       "count  18158.000000   18158.000000  18158.000000  \n",
       "mean      16.232460      16.389140     16.711312  \n",
       "std       16.503232      17.035107     17.955522  \n",
       "min        1.000000       1.000000      1.000000  \n",
       "25%        8.000000       8.000000      8.000000  \n",
       "50%       11.000000      11.000000     11.000000  \n",
       "75%       14.000000      14.000000     14.000000  \n",
       "max       91.000000      90.000000     94.000000  \n",
       "\n",
       "[8 rows x 44 columns]"
      ]
     },
     "execution_count": 80,
     "metadata": {},
     "output_type": "execute_result"
    }
   ],
   "source": [
    "fifa2019.describe()"
   ]
  },
  {
   "cell_type": "code",
   "execution_count": 81,
   "metadata": {},
   "outputs": [],
   "source": [
    "# Count the NaN values in a column\n",
    "def missing_zero_values_table(df):\n",
    "        zero_val = (df == 0.00).astype(int).sum(axis=0)\n",
    "        mis_val = df.isnull().sum()\n",
    "        mis_val_percent = 100 * df.isnull().sum() / len(df)\n",
    "        mz_table = pd.concat([zero_val, mis_val, mis_val_percent], axis=1)\n",
    "        mz_table = mz_table.rename(\n",
    "        columns = {0 : 'Zero Values', 1 : 'Missing Values', 2 : '% of Total Values'})\n",
    "        mz_table['Total Zero Missing Values'] = mz_table['Zero Values'] + mz_table['Missing Values']\n",
    "        mz_table['% Total Zero Missing Values'] = 100 * mz_table['Total Zero Missing Values'] / len(df)\n",
    "        mz_table['% Total Missing Values'] = 100 * mz_table['Missing Values'] / len(df)\n",
    "        mz_table['Data Type'] = df.dtypes\n",
    "        mz_table = mz_table[\n",
    "            mz_table.iloc[:,1] != 0].sort_values(\n",
    "        '% of Total Values', ascending=False).round(1)\n",
    "        print (\"Your selected dataframe has \" + str(df.shape[1]) + \" columns and \" + str(df.shape[0]) + \" Rows.\\n\"      \n",
    "            \"There are \" + str(mz_table.shape[0]) +\n",
    "              \" columns that have missing values.\")\n",
    "        print (\"There are \", sum(mz_table['% Total Missing Values'] > 50), \"columns having greater than 50% missing value.\")\n",
    "        print (\"There are \", sum(mz_table['% Total Missing Values'] > 40), \"columns having greater than 40% missing value.\")\n",
    "        print (\"There are \", sum(mz_table['% Total Missing Values'] > 30), \"columns having greater than 30% missing value.\")\n",
    "        print (\"There are \", sum(mz_table['% Total Missing Values'] > 20), \"columns having greater than 20% missing value.\")\n",
    "        print (\"There are \", sum(mz_table['% Total Missing Values'] > 10), \"columns having greater than 10% missing value.\")\n",
    "\n",
    "        return mz_table"
   ]
  },
  {
   "cell_type": "code",
   "execution_count": 82,
   "metadata": {},
   "outputs": [
    {
     "name": "stdout",
     "output_type": "stream",
     "text": [
      "Your selected dataframe has 89 columns and 18206 Rows.\n",
      "There are 76 columns that have missing values.\n",
      "There are  1 columns having greater than 50% missing value.\n",
      "There are  1 columns having greater than 40% missing value.\n",
      "There are  1 columns having greater than 30% missing value.\n",
      "There are  1 columns having greater than 20% missing value.\n",
      "There are  27 columns having greater than 10% missing value.\n"
     ]
    }
   ],
   "source": [
    "fifa2019_null = missing_zero_values_table(fifa2019)"
   ]
  },
  {
   "cell_type": "code",
   "execution_count": 83,
   "metadata": {},
   "outputs": [],
   "source": [
    "# Replace the missing values in columns Club and Position to values 'No Club' and 'ST' (striker) respectively\n",
    "fifa2019['Club'].fillna('No Club', inplace = True)\n",
    "fifa2019['Position'].fillna('ST', inplace = True)"
   ]
  },
  {
   "cell_type": "code",
   "execution_count": 84,
   "metadata": {},
   "outputs": [],
   "source": [
    "# Select the columns for which we would like to replace the missing values with its mean\n",
    "to_replace_by_mean = fifa2019.loc[:, ['Crossing', 'Finishing', 'HeadingAccuracy',\n",
    "                                 'ShortPassing', 'Volleys', 'Dribbling', 'Curve', 'FKAccuracy',\n",
    "                                 'LongPassing', 'BallControl', 'Acceleration', 'SprintSpeed',\n",
    "                                 'Agility', 'Reactions', 'Balance', 'ShotPower', 'Jumping',\n",
    "                                 'Stamina', 'Strength', 'LongShots', 'Aggression', 'Interceptions',\n",
    "                                 'Positioning', 'Vision', 'Penalties', 'Composure', 'Marking',\n",
    "                                 'StandingTackle', 'SlidingTackle', 'GKDiving', 'GKHandling',\n",
    "                                 'GKKicking', 'GKPositioning', 'GKReflexes']]"
   ]
  },
  {
   "cell_type": "code",
   "execution_count": 85,
   "metadata": {},
   "outputs": [],
   "source": [
    "# replacing the missing values with mean\n",
    "for i in to_replace_by_mean.columns:\n",
    "    fifa2019[i].fillna(fifa2019[i].mean(), inplace = True)"
   ]
  },
  {
   "cell_type": "code",
   "execution_count": 86,
   "metadata": {},
   "outputs": [],
   "source": [
    "# Replace the missing values of the categorical variables with the mode\n",
    "to_replace_by_mode = fifa2019.loc[:, ['Body Type','International Reputation', 'Height', 'Weight', 'Preferred Foot','Jersey Number']]\n",
    "for i in to_replace_by_mode.columns:\n",
    "    fifa2019[i].fillna(fifa2019[i].mode()[0], inplace = True)"
   ]
  },
  {
   "cell_type": "code",
   "execution_count": 87,
   "metadata": {},
   "outputs": [],
   "source": [
    "# Replace the missing values of discrete numerical or continuous numerical variables by its median\n",
    "to_replace_by_median = fifa2019.loc[:, ['Weak Foot', 'Skill Moves', ]]\n",
    "for i in to_replace_by_median.columns:\n",
    "    fifa2019[i].fillna(fifa2019[i].median(), inplace = True)"
   ]
  },
  {
   "cell_type": "code",
   "execution_count": 88,
   "metadata": {},
   "outputs": [],
   "source": [
    "# Replace the missing values of the remaning columns with the value zero\n",
    "fifa2019.columns[fifa2019.isna().any()]\n",
    "fifa2019.fillna(0, inplace = True)"
   ]
  },
  {
   "cell_type": "code",
   "execution_count": 89,
   "metadata": {},
   "outputs": [
    {
     "data": {
      "text/html": [
       "<div>\n",
       "<style scoped>\n",
       "    .dataframe tbody tr th:only-of-type {\n",
       "        vertical-align: middle;\n",
       "    }\n",
       "\n",
       "    .dataframe tbody tr th {\n",
       "        vertical-align: top;\n",
       "    }\n",
       "\n",
       "    .dataframe thead th {\n",
       "        text-align: right;\n",
       "    }\n",
       "</style>\n",
       "<table border=\"1\" class=\"dataframe\">\n",
       "  <thead>\n",
       "    <tr style=\"text-align: right;\">\n",
       "      <th></th>\n",
       "      <th>Unnamed: 0</th>\n",
       "      <th>ID</th>\n",
       "      <th>Name</th>\n",
       "      <th>Age</th>\n",
       "      <th>Photo</th>\n",
       "      <th>Nationality</th>\n",
       "      <th>Flag</th>\n",
       "      <th>Overall</th>\n",
       "      <th>Potential</th>\n",
       "      <th>Club</th>\n",
       "      <th>...</th>\n",
       "      <th>Composure</th>\n",
       "      <th>Marking</th>\n",
       "      <th>StandingTackle</th>\n",
       "      <th>SlidingTackle</th>\n",
       "      <th>GKDiving</th>\n",
       "      <th>GKHandling</th>\n",
       "      <th>GKKicking</th>\n",
       "      <th>GKPositioning</th>\n",
       "      <th>GKReflexes</th>\n",
       "      <th>Release Clause</th>\n",
       "    </tr>\n",
       "  </thead>\n",
       "  <tbody>\n",
       "    <tr>\n",
       "      <th>0</th>\n",
       "      <td>0</td>\n",
       "      <td>158023</td>\n",
       "      <td>L. Messi</td>\n",
       "      <td>31</td>\n",
       "      <td>https://cdn.sofifa.org/players/4/19/158023.png</td>\n",
       "      <td>Argentina</td>\n",
       "      <td>https://cdn.sofifa.org/flags/52.png</td>\n",
       "      <td>94</td>\n",
       "      <td>94</td>\n",
       "      <td>FC Barcelona</td>\n",
       "      <td>...</td>\n",
       "      <td>96.0</td>\n",
       "      <td>33.0</td>\n",
       "      <td>28.0</td>\n",
       "      <td>26.0</td>\n",
       "      <td>6.0</td>\n",
       "      <td>11.0</td>\n",
       "      <td>15.0</td>\n",
       "      <td>14.0</td>\n",
       "      <td>8.0</td>\n",
       "      <td>€226.5M</td>\n",
       "    </tr>\n",
       "    <tr>\n",
       "      <th>1</th>\n",
       "      <td>1</td>\n",
       "      <td>20801</td>\n",
       "      <td>Cristiano Ronaldo</td>\n",
       "      <td>33</td>\n",
       "      <td>https://cdn.sofifa.org/players/4/19/20801.png</td>\n",
       "      <td>Portugal</td>\n",
       "      <td>https://cdn.sofifa.org/flags/38.png</td>\n",
       "      <td>94</td>\n",
       "      <td>94</td>\n",
       "      <td>Juventus</td>\n",
       "      <td>...</td>\n",
       "      <td>95.0</td>\n",
       "      <td>28.0</td>\n",
       "      <td>31.0</td>\n",
       "      <td>23.0</td>\n",
       "      <td>7.0</td>\n",
       "      <td>11.0</td>\n",
       "      <td>15.0</td>\n",
       "      <td>14.0</td>\n",
       "      <td>11.0</td>\n",
       "      <td>€127.1M</td>\n",
       "    </tr>\n",
       "    <tr>\n",
       "      <th>2</th>\n",
       "      <td>2</td>\n",
       "      <td>190871</td>\n",
       "      <td>Neymar Jr</td>\n",
       "      <td>26</td>\n",
       "      <td>https://cdn.sofifa.org/players/4/19/190871.png</td>\n",
       "      <td>Brazil</td>\n",
       "      <td>https://cdn.sofifa.org/flags/54.png</td>\n",
       "      <td>92</td>\n",
       "      <td>93</td>\n",
       "      <td>Paris Saint-Germain</td>\n",
       "      <td>...</td>\n",
       "      <td>94.0</td>\n",
       "      <td>27.0</td>\n",
       "      <td>24.0</td>\n",
       "      <td>33.0</td>\n",
       "      <td>9.0</td>\n",
       "      <td>9.0</td>\n",
       "      <td>15.0</td>\n",
       "      <td>15.0</td>\n",
       "      <td>11.0</td>\n",
       "      <td>€228.1M</td>\n",
       "    </tr>\n",
       "    <tr>\n",
       "      <th>3</th>\n",
       "      <td>3</td>\n",
       "      <td>193080</td>\n",
       "      <td>De Gea</td>\n",
       "      <td>27</td>\n",
       "      <td>https://cdn.sofifa.org/players/4/19/193080.png</td>\n",
       "      <td>Spain</td>\n",
       "      <td>https://cdn.sofifa.org/flags/45.png</td>\n",
       "      <td>91</td>\n",
       "      <td>93</td>\n",
       "      <td>Manchester United</td>\n",
       "      <td>...</td>\n",
       "      <td>68.0</td>\n",
       "      <td>15.0</td>\n",
       "      <td>21.0</td>\n",
       "      <td>13.0</td>\n",
       "      <td>90.0</td>\n",
       "      <td>85.0</td>\n",
       "      <td>87.0</td>\n",
       "      <td>88.0</td>\n",
       "      <td>94.0</td>\n",
       "      <td>€138.6M</td>\n",
       "    </tr>\n",
       "    <tr>\n",
       "      <th>4</th>\n",
       "      <td>4</td>\n",
       "      <td>192985</td>\n",
       "      <td>K. De Bruyne</td>\n",
       "      <td>27</td>\n",
       "      <td>https://cdn.sofifa.org/players/4/19/192985.png</td>\n",
       "      <td>Belgium</td>\n",
       "      <td>https://cdn.sofifa.org/flags/7.png</td>\n",
       "      <td>91</td>\n",
       "      <td>92</td>\n",
       "      <td>Manchester City</td>\n",
       "      <td>...</td>\n",
       "      <td>88.0</td>\n",
       "      <td>68.0</td>\n",
       "      <td>58.0</td>\n",
       "      <td>51.0</td>\n",
       "      <td>15.0</td>\n",
       "      <td>13.0</td>\n",
       "      <td>5.0</td>\n",
       "      <td>10.0</td>\n",
       "      <td>13.0</td>\n",
       "      <td>€196.4M</td>\n",
       "    </tr>\n",
       "  </tbody>\n",
       "</table>\n",
       "<p>5 rows × 89 columns</p>\n",
       "</div>"
      ],
      "text/plain": [
       "   Unnamed: 0      ID               Name  Age  \\\n",
       "0           0  158023           L. Messi   31   \n",
       "1           1   20801  Cristiano Ronaldo   33   \n",
       "2           2  190871          Neymar Jr   26   \n",
       "3           3  193080             De Gea   27   \n",
       "4           4  192985       K. De Bruyne   27   \n",
       "\n",
       "                                            Photo Nationality  \\\n",
       "0  https://cdn.sofifa.org/players/4/19/158023.png   Argentina   \n",
       "1   https://cdn.sofifa.org/players/4/19/20801.png    Portugal   \n",
       "2  https://cdn.sofifa.org/players/4/19/190871.png      Brazil   \n",
       "3  https://cdn.sofifa.org/players/4/19/193080.png       Spain   \n",
       "4  https://cdn.sofifa.org/players/4/19/192985.png     Belgium   \n",
       "\n",
       "                                  Flag  Overall  Potential  \\\n",
       "0  https://cdn.sofifa.org/flags/52.png       94         94   \n",
       "1  https://cdn.sofifa.org/flags/38.png       94         94   \n",
       "2  https://cdn.sofifa.org/flags/54.png       92         93   \n",
       "3  https://cdn.sofifa.org/flags/45.png       91         93   \n",
       "4   https://cdn.sofifa.org/flags/7.png       91         92   \n",
       "\n",
       "                  Club  ... Composure Marking StandingTackle  SlidingTackle  \\\n",
       "0         FC Barcelona  ...      96.0    33.0           28.0           26.0   \n",
       "1             Juventus  ...      95.0    28.0           31.0           23.0   \n",
       "2  Paris Saint-Germain  ...      94.0    27.0           24.0           33.0   \n",
       "3    Manchester United  ...      68.0    15.0           21.0           13.0   \n",
       "4      Manchester City  ...      88.0    68.0           58.0           51.0   \n",
       "\n",
       "  GKDiving  GKHandling  GKKicking  GKPositioning GKReflexes Release Clause  \n",
       "0      6.0        11.0       15.0           14.0        8.0        €226.5M  \n",
       "1      7.0        11.0       15.0           14.0       11.0        €127.1M  \n",
       "2      9.0         9.0       15.0           15.0       11.0        €228.1M  \n",
       "3     90.0        85.0       87.0           88.0       94.0        €138.6M  \n",
       "4     15.0        13.0        5.0           10.0       13.0        €196.4M  \n",
       "\n",
       "[5 rows x 89 columns]"
      ]
     },
     "execution_count": 89,
     "metadata": {},
     "output_type": "execute_result"
    }
   ],
   "source": [
    "fifa2019.head()"
   ]
  },
  {
   "cell_type": "code",
   "execution_count": 90,
   "metadata": {},
   "outputs": [
    {
     "name": "stdout",
     "output_type": "stream",
     "text": [
      "Your selected dataframe has 89 columns and 18206 Rows.\n",
      "There are 0 columns that have missing values.\n",
      "There are  0 columns having greater than 50% missing value.\n",
      "There are  0 columns having greater than 40% missing value.\n",
      "There are  0 columns having greater than 30% missing value.\n",
      "There are  0 columns having greater than 20% missing value.\n",
      "There are  0 columns having greater than 10% missing value.\n"
     ]
    }
   ],
   "source": [
    "fifa2019_null = missing_zero_values_table(fifa2019)"
   ]
  },
  {
   "cell_type": "markdown",
   "metadata": {},
   "source": [
    "Now as you can see, we have a clean data on which we can start our analysis"
   ]
  },
  {
   "cell_type": "markdown",
   "metadata": {},
   "source": [
    "## Start of Assignment Tasks - 10.4 : Term Project"
   ]
  },
  {
   "cell_type": "markdown",
   "metadata": {},
   "source": [
    "**1) A minimum of 5 variables in your dataset used during your analysis (for help with selecting, the author made his selection on page 6 of your book). Consider what you think could have an impact on your question – remember this is never perfect, so don’t be worried if you miss one (Chapter 1).**"
   ]
  },
  {
   "cell_type": "code",
   "execution_count": 91,
   "metadata": {},
   "outputs": [],
   "source": [
    "# Below are functions to get the rounded values from different columns.\n",
    "# This will help us create a new dataframe which will contain columns which would be more meaningful & helpful for our analysis.\n",
    "def defending(data):\n",
    "    return int(round((data[['Marking', 'StandingTackle', \n",
    "                               'SlidingTackle']].mean()).mean()))\n",
    "\n",
    "def general(data):\n",
    "    return int(round((data[['HeadingAccuracy', 'Dribbling', 'Curve', \n",
    "                               'BallControl']].mean()).mean()))\n",
    "\n",
    "def shooting(data):\n",
    "    return int(round((data[['Finishing', 'Volleys', 'FKAccuracy', \n",
    "                               'ShotPower','LongShots', 'Penalties']].mean()).mean()))"
   ]
  },
  {
   "cell_type": "code",
   "execution_count": 92,
   "metadata": {},
   "outputs": [],
   "source": [
    "# add the above defined new columns to the fifa2019 dataframe\n",
    "fifa2019['Defending'] = fifa2019.apply(defending, axis = 1)\n",
    "fifa2019['General'] = fifa2019.apply(general, axis = 1)\n",
    "fifa2019['Shooting'] = fifa2019.apply(shooting, axis = 1)"
   ]
  },
  {
   "cell_type": "code",
   "execution_count": 93,
   "metadata": {},
   "outputs": [],
   "source": [
    "# create the new dataframe fifa2019_df with the below columns and rename column 'Preferred Foot' to 'Preferred_Foot' for use in Histogram and other places\n",
    "fifa2019_df = fifa2019[['Name', 'Age', 'Nationality', 'Preferred Foot', 'Work Rate', \n",
    "                    'Position', 'Height', 'Weight', 'Defending', 'General', 'Shooting', 'Club']]\n",
    "fifa2019_df = fifa2019_df.rename(columns={'Preferred Foot': 'Preferred_Foot'})"
   ]
  },
  {
   "cell_type": "code",
   "execution_count": 94,
   "metadata": {},
   "outputs": [
    {
     "data": {
      "text/html": [
       "<div>\n",
       "<style scoped>\n",
       "    .dataframe tbody tr th:only-of-type {\n",
       "        vertical-align: middle;\n",
       "    }\n",
       "\n",
       "    .dataframe tbody tr th {\n",
       "        vertical-align: top;\n",
       "    }\n",
       "\n",
       "    .dataframe thead th {\n",
       "        text-align: right;\n",
       "    }\n",
       "</style>\n",
       "<table border=\"1\" class=\"dataframe\">\n",
       "  <thead>\n",
       "    <tr style=\"text-align: right;\">\n",
       "      <th></th>\n",
       "      <th>Name</th>\n",
       "      <th>Age</th>\n",
       "      <th>Nationality</th>\n",
       "      <th>Preferred_Foot</th>\n",
       "      <th>Work Rate</th>\n",
       "      <th>Position</th>\n",
       "      <th>Height</th>\n",
       "      <th>Weight</th>\n",
       "      <th>Defending</th>\n",
       "      <th>General</th>\n",
       "      <th>Shooting</th>\n",
       "      <th>Club</th>\n",
       "    </tr>\n",
       "  </thead>\n",
       "  <tbody>\n",
       "    <tr>\n",
       "      <th>0</th>\n",
       "      <td>L. Messi</td>\n",
       "      <td>31</td>\n",
       "      <td>Argentina</td>\n",
       "      <td>Left</td>\n",
       "      <td>Medium/ Medium</td>\n",
       "      <td>RF</td>\n",
       "      <td>5'7</td>\n",
       "      <td>159lbs</td>\n",
       "      <td>29</td>\n",
       "      <td>89</td>\n",
       "      <td>88</td>\n",
       "      <td>FC Barcelona</td>\n",
       "    </tr>\n",
       "    <tr>\n",
       "      <th>1</th>\n",
       "      <td>Cristiano Ronaldo</td>\n",
       "      <td>33</td>\n",
       "      <td>Portugal</td>\n",
       "      <td>Right</td>\n",
       "      <td>High/ Low</td>\n",
       "      <td>ST</td>\n",
       "      <td>6'2</td>\n",
       "      <td>183lbs</td>\n",
       "      <td>27</td>\n",
       "      <td>88</td>\n",
       "      <td>88</td>\n",
       "      <td>Juventus</td>\n",
       "    </tr>\n",
       "    <tr>\n",
       "      <th>2</th>\n",
       "      <td>Neymar Jr</td>\n",
       "      <td>26</td>\n",
       "      <td>Brazil</td>\n",
       "      <td>Right</td>\n",
       "      <td>High/ Medium</td>\n",
       "      <td>LW</td>\n",
       "      <td>5'9</td>\n",
       "      <td>150lbs</td>\n",
       "      <td>28</td>\n",
       "      <td>85</td>\n",
       "      <td>84</td>\n",
       "      <td>Paris Saint-Germain</td>\n",
       "    </tr>\n",
       "    <tr>\n",
       "      <th>3</th>\n",
       "      <td>De Gea</td>\n",
       "      <td>27</td>\n",
       "      <td>Spain</td>\n",
       "      <td>Right</td>\n",
       "      <td>Medium/ Medium</td>\n",
       "      <td>GK</td>\n",
       "      <td>6'4</td>\n",
       "      <td>168lbs</td>\n",
       "      <td>16</td>\n",
       "      <td>26</td>\n",
       "      <td>21</td>\n",
       "      <td>Manchester United</td>\n",
       "    </tr>\n",
       "    <tr>\n",
       "      <th>4</th>\n",
       "      <td>K. De Bruyne</td>\n",
       "      <td>27</td>\n",
       "      <td>Belgium</td>\n",
       "      <td>Right</td>\n",
       "      <td>High/ High</td>\n",
       "      <td>RCM</td>\n",
       "      <td>5'11</td>\n",
       "      <td>154lbs</td>\n",
       "      <td>59</td>\n",
       "      <td>79</td>\n",
       "      <td>85</td>\n",
       "      <td>Manchester City</td>\n",
       "    </tr>\n",
       "  </tbody>\n",
       "</table>\n",
       "</div>"
      ],
      "text/plain": [
       "                Name  Age Nationality Preferred_Foot       Work Rate Position  \\\n",
       "0           L. Messi   31   Argentina           Left  Medium/ Medium       RF   \n",
       "1  Cristiano Ronaldo   33    Portugal          Right       High/ Low       ST   \n",
       "2          Neymar Jr   26      Brazil          Right    High/ Medium       LW   \n",
       "3             De Gea   27       Spain          Right  Medium/ Medium       GK   \n",
       "4       K. De Bruyne   27     Belgium          Right      High/ High      RCM   \n",
       "\n",
       "  Height  Weight  Defending  General  Shooting                 Club  \n",
       "0    5'7  159lbs         29       89        88         FC Barcelona  \n",
       "1    6'2  183lbs         27       88        88             Juventus  \n",
       "2    5'9  150lbs         28       85        84  Paris Saint-Germain  \n",
       "3    6'4  168lbs         16       26        21    Manchester United  \n",
       "4   5'11  154lbs         59       79        85      Manchester City  "
      ]
     },
     "execution_count": 94,
     "metadata": {},
     "output_type": "execute_result"
    }
   ],
   "source": [
    "fifa2019_df.head()"
   ]
  },
  {
   "cell_type": "markdown",
   "metadata": {},
   "source": [
    "**2) Describe what the 5 variables mean in the dataset (Chapter 1).**"
   ]
  },
  {
   "cell_type": "code",
   "execution_count": 95,
   "metadata": {},
   "outputs": [
    {
     "data": {
      "text/html": [
       "<div>\n",
       "<style scoped>\n",
       "    .dataframe tbody tr th:only-of-type {\n",
       "        vertical-align: middle;\n",
       "    }\n",
       "\n",
       "    .dataframe tbody tr th {\n",
       "        vertical-align: top;\n",
       "    }\n",
       "\n",
       "    .dataframe thead th {\n",
       "        text-align: right;\n",
       "    }\n",
       "</style>\n",
       "<table border=\"1\" class=\"dataframe\">\n",
       "  <thead>\n",
       "    <tr style=\"text-align: right;\">\n",
       "      <th></th>\n",
       "      <th>Age</th>\n",
       "      <th>Defending</th>\n",
       "      <th>General</th>\n",
       "      <th>Shooting</th>\n",
       "    </tr>\n",
       "  </thead>\n",
       "  <tbody>\n",
       "    <tr>\n",
       "      <th>count</th>\n",
       "      <td>18206.000000</td>\n",
       "      <td>18206.000000</td>\n",
       "      <td>18206.000000</td>\n",
       "      <td>18206.000000</td>\n",
       "    </tr>\n",
       "    <tr>\n",
       "      <th>mean</th>\n",
       "      <td>25.122707</td>\n",
       "      <td>46.881138</td>\n",
       "      <td>53.304570</td>\n",
       "      <td>47.074206</td>\n",
       "    </tr>\n",
       "    <tr>\n",
       "      <th>std</th>\n",
       "      <td>4.669582</td>\n",
       "      <td>20.409858</td>\n",
       "      <td>15.774409</td>\n",
       "      <td>16.363981</td>\n",
       "    </tr>\n",
       "    <tr>\n",
       "      <th>min</th>\n",
       "      <td>16.000000</td>\n",
       "      <td>5.000000</td>\n",
       "      <td>8.000000</td>\n",
       "      <td>7.000000</td>\n",
       "    </tr>\n",
       "    <tr>\n",
       "      <th>25%</th>\n",
       "      <td>21.000000</td>\n",
       "      <td>28.000000</td>\n",
       "      <td>49.000000</td>\n",
       "      <td>36.000000</td>\n",
       "    </tr>\n",
       "    <tr>\n",
       "      <th>50%</th>\n",
       "      <td>25.000000</td>\n",
       "      <td>53.000000</td>\n",
       "      <td>57.000000</td>\n",
       "      <td>50.000000</td>\n",
       "    </tr>\n",
       "    <tr>\n",
       "      <th>75%</th>\n",
       "      <td>28.000000</td>\n",
       "      <td>64.000000</td>\n",
       "      <td>63.000000</td>\n",
       "      <td>59.000000</td>\n",
       "    </tr>\n",
       "    <tr>\n",
       "      <th>max</th>\n",
       "      <td>45.000000</td>\n",
       "      <td>92.000000</td>\n",
       "      <td>89.000000</td>\n",
       "      <td>88.000000</td>\n",
       "    </tr>\n",
       "  </tbody>\n",
       "</table>\n",
       "</div>"
      ],
      "text/plain": [
       "                Age     Defending       General      Shooting\n",
       "count  18206.000000  18206.000000  18206.000000  18206.000000\n",
       "mean      25.122707     46.881138     53.304570     47.074206\n",
       "std        4.669582     20.409858     15.774409     16.363981\n",
       "min       16.000000      5.000000      8.000000      7.000000\n",
       "25%       21.000000     28.000000     49.000000     36.000000\n",
       "50%       25.000000     53.000000     57.000000     50.000000\n",
       "75%       28.000000     64.000000     63.000000     59.000000\n",
       "max       45.000000     92.000000     89.000000     88.000000"
      ]
     },
     "execution_count": 95,
     "metadata": {},
     "output_type": "execute_result"
    }
   ],
   "source": [
    "# Below is the variable mean of all the numeric columns in the fifa2019_df dataframe\n",
    "fifa2019_df.describe()"
   ]
  },
  {
   "cell_type": "markdown",
   "metadata": {},
   "source": [
    "**3) Include a histogram of each of the 5 variables – in your summary and analysis, identify any outliers and explain the reasoning for them being outliers and how you believe they should be handled (Chapter 2).**"
   ]
  },
  {
   "cell_type": "code",
   "execution_count": 96,
   "metadata": {},
   "outputs": [],
   "source": [
    "def plot_hist(var):\n",
    "    hist = thinkstats2.Hist(var)\n",
    "    thinkplot.Hist(hist,align='left')\n",
    "    \n",
    "    return hist"
   ]
  },
  {
   "cell_type": "code",
   "execution_count": 97,
   "metadata": {},
   "outputs": [
    {
     "data": {
      "image/png": "[encoded data removed]",
      "text/plain": [
       "<Figure size 864x432 with 1 Axes>"
      ]
     },
     "metadata": {
      "needs_background": "light"
     },
     "output_type": "display_data"
    },
    {
     "data": {
      "text/plain": [
       "<Figure size 576x432 with 0 Axes>"
      ]
     },
     "metadata": {},
     "output_type": "display_data"
    }
   ],
   "source": [
    "# Plot histogram of Age\n",
    "plt.rcParams['figure.figsize'] = (12,6)\n",
    "hist = plot_hist(fifa2019_df.Age)\n",
    "thinkplot.Show(xlabel='Age', ylabel='frequency')"
   ]
  },
  {
   "cell_type": "code",
   "execution_count": 98,
   "metadata": {},
   "outputs": [
    {
     "data": {
      "text/plain": [
       "[(45, 1), (44, 2), (42, 1), (41, 5), (40, 13), (39, 25)]"
      ]
     },
     "execution_count": 98,
     "metadata": {},
     "output_type": "execute_result"
    }
   ],
   "source": [
    "# Looking into above histogram, it appears to have possibility of outliers with a few players around the age of 40yrs or more.\n",
    "# Check largest 6 values\n",
    "hist.Largest(6)"
   ]
  },
  {
   "cell_type": "code",
   "execution_count": 99,
   "metadata": {},
   "outputs": [
    {
     "data": {
      "text/plain": [
       "[(16, 41), (17, 289), (18, 732), (19, 1024), (20, 1240), (21, 1423)]"
      ]
     },
     "execution_count": 99,
     "metadata": {},
     "output_type": "execute_result"
    }
   ],
   "source": [
    "#Check smallest 6 values\n",
    "hist.Smallest(6)"
   ]
  },
  {
   "cell_type": "code",
   "execution_count": 100,
   "metadata": {},
   "outputs": [
    {
     "data": {
      "text/html": [
       "<div>\n",
       "<style scoped>\n",
       "    .dataframe tbody tr th:only-of-type {\n",
       "        vertical-align: middle;\n",
       "    }\n",
       "\n",
       "    .dataframe tbody tr th {\n",
       "        vertical-align: top;\n",
       "    }\n",
       "\n",
       "    .dataframe thead th {\n",
       "        text-align: right;\n",
       "    }\n",
       "</style>\n",
       "<table border=\"1\" class=\"dataframe\">\n",
       "  <thead>\n",
       "    <tr style=\"text-align: right;\">\n",
       "      <th></th>\n",
       "      <th>Name</th>\n",
       "      <th>Age</th>\n",
       "      <th>Nationality</th>\n",
       "      <th>Preferred_Foot</th>\n",
       "      <th>Work Rate</th>\n",
       "      <th>Position</th>\n",
       "      <th>Height</th>\n",
       "      <th>Weight</th>\n",
       "      <th>Defending</th>\n",
       "      <th>General</th>\n",
       "      <th>Shooting</th>\n",
       "      <th>Club</th>\n",
       "    </tr>\n",
       "  </thead>\n",
       "  <tbody>\n",
       "    <tr>\n",
       "      <th>4741</th>\n",
       "      <td>O. Pérez</td>\n",
       "      <td>45</td>\n",
       "      <td>Mexico</td>\n",
       "      <td>Right</td>\n",
       "      <td>Medium/ Medium</td>\n",
       "      <td>GK</td>\n",
       "      <td>5'8</td>\n",
       "      <td>165lbs</td>\n",
       "      <td>15</td>\n",
       "      <td>18</td>\n",
       "      <td>19</td>\n",
       "      <td>Pachuca</td>\n",
       "    </tr>\n",
       "    <tr>\n",
       "      <th>17726</th>\n",
       "      <td>T. Warner</td>\n",
       "      <td>44</td>\n",
       "      <td>Trinidad &amp; Tobago</td>\n",
       "      <td>Right</td>\n",
       "      <td>Medium/ Medium</td>\n",
       "      <td>GK</td>\n",
       "      <td>6'4</td>\n",
       "      <td>185lbs</td>\n",
       "      <td>16</td>\n",
       "      <td>18</td>\n",
       "      <td>19</td>\n",
       "      <td>Accrington Stanley</td>\n",
       "    </tr>\n",
       "    <tr>\n",
       "      <th>18183</th>\n",
       "      <td>K. Pilkington</td>\n",
       "      <td>44</td>\n",
       "      <td>England</td>\n",
       "      <td>Right</td>\n",
       "      <td>Medium/ Medium</td>\n",
       "      <td>GK</td>\n",
       "      <td>6'2</td>\n",
       "      <td>190lbs</td>\n",
       "      <td>14</td>\n",
       "      <td>13</td>\n",
       "      <td>16</td>\n",
       "      <td>Cambridge United</td>\n",
       "    </tr>\n",
       "    <tr>\n",
       "      <th>10545</th>\n",
       "      <td>S. Narazaki</td>\n",
       "      <td>42</td>\n",
       "      <td>Japan</td>\n",
       "      <td>Right</td>\n",
       "      <td>Medium/ Medium</td>\n",
       "      <td>GK</td>\n",
       "      <td>6'2</td>\n",
       "      <td>176lbs</td>\n",
       "      <td>24</td>\n",
       "      <td>26</td>\n",
       "      <td>23</td>\n",
       "      <td>Nagoya Grampus</td>\n",
       "    </tr>\n",
       "    <tr>\n",
       "      <th>1120</th>\n",
       "      <td>J. Villar</td>\n",
       "      <td>41</td>\n",
       "      <td>Paraguay</td>\n",
       "      <td>Right</td>\n",
       "      <td>Medium/ Medium</td>\n",
       "      <td>GK</td>\n",
       "      <td>5'11</td>\n",
       "      <td>187lbs</td>\n",
       "      <td>13</td>\n",
       "      <td>18</td>\n",
       "      <td>18</td>\n",
       "      <td>No Club</td>\n",
       "    </tr>\n",
       "    <tr>\n",
       "      <th>4228</th>\n",
       "      <td>B. Nivet</td>\n",
       "      <td>41</td>\n",
       "      <td>France</td>\n",
       "      <td>Right</td>\n",
       "      <td>Medium/ Medium</td>\n",
       "      <td>CAM</td>\n",
       "      <td>5'10</td>\n",
       "      <td>165lbs</td>\n",
       "      <td>52</td>\n",
       "      <td>69</td>\n",
       "      <td>72</td>\n",
       "      <td>ESTAC Troyes</td>\n",
       "    </tr>\n",
       "    <tr>\n",
       "      <th>7225</th>\n",
       "      <td>C. Muñoz</td>\n",
       "      <td>41</td>\n",
       "      <td>Argentina</td>\n",
       "      <td>Right</td>\n",
       "      <td>Medium/ Medium</td>\n",
       "      <td>GK</td>\n",
       "      <td>5'10</td>\n",
       "      <td>161lbs</td>\n",
       "      <td>17</td>\n",
       "      <td>21</td>\n",
       "      <td>19</td>\n",
       "      <td>CD Universidad de Concepción</td>\n",
       "    </tr>\n",
       "    <tr>\n",
       "      <th>12192</th>\n",
       "      <td>H. Sulaimani</td>\n",
       "      <td>41</td>\n",
       "      <td>Saudi Arabia</td>\n",
       "      <td>Left</td>\n",
       "      <td>High/ Medium</td>\n",
       "      <td>LB</td>\n",
       "      <td>5'8</td>\n",
       "      <td>154lbs</td>\n",
       "      <td>64</td>\n",
       "      <td>64</td>\n",
       "      <td>57</td>\n",
       "      <td>Ohod Club</td>\n",
       "    </tr>\n",
       "    <tr>\n",
       "      <th>15426</th>\n",
       "      <td>M. Tyler</td>\n",
       "      <td>41</td>\n",
       "      <td>England</td>\n",
       "      <td>Right</td>\n",
       "      <td>Medium/ Medium</td>\n",
       "      <td>GK</td>\n",
       "      <td>6'0</td>\n",
       "      <td>183lbs</td>\n",
       "      <td>19</td>\n",
       "      <td>19</td>\n",
       "      <td>13</td>\n",
       "      <td>Peterborough United</td>\n",
       "    </tr>\n",
       "  </tbody>\n",
       "</table>\n",
       "</div>"
      ],
      "text/plain": [
       "                Name  Age        Nationality Preferred_Foot       Work Rate  \\\n",
       "4741        O. Pérez   45             Mexico          Right  Medium/ Medium   \n",
       "17726      T. Warner   44  Trinidad & Tobago          Right  Medium/ Medium   \n",
       "18183  K. Pilkington   44            England          Right  Medium/ Medium   \n",
       "10545    S. Narazaki   42              Japan          Right  Medium/ Medium   \n",
       "1120       J. Villar   41           Paraguay          Right  Medium/ Medium   \n",
       "4228        B. Nivet   41             France          Right  Medium/ Medium   \n",
       "7225        C. Muñoz   41          Argentina          Right  Medium/ Medium   \n",
       "12192   H. Sulaimani   41       Saudi Arabia           Left    High/ Medium   \n",
       "15426       M. Tyler   41            England          Right  Medium/ Medium   \n",
       "\n",
       "      Position Height  Weight  Defending  General  Shooting  \\\n",
       "4741        GK    5'8  165lbs         15       18        19   \n",
       "17726       GK    6'4  185lbs         16       18        19   \n",
       "18183       GK    6'2  190lbs         14       13        16   \n",
       "10545       GK    6'2  176lbs         24       26        23   \n",
       "1120        GK   5'11  187lbs         13       18        18   \n",
       "4228       CAM   5'10  165lbs         52       69        72   \n",
       "7225        GK   5'10  161lbs         17       21        19   \n",
       "12192       LB    5'8  154lbs         64       64        57   \n",
       "15426       GK    6'0  183lbs         19       19        13   \n",
       "\n",
       "                               Club  \n",
       "4741                        Pachuca  \n",
       "17726            Accrington Stanley  \n",
       "18183              Cambridge United  \n",
       "10545                Nagoya Grampus  \n",
       "1120                        No Club  \n",
       "4228                   ESTAC Troyes  \n",
       "7225   CD Universidad de Concepción  \n",
       "12192                     Ohod Club  \n",
       "15426           Peterborough United  "
      ]
     },
     "execution_count": 100,
     "metadata": {},
     "output_type": "execute_result"
    }
   ],
   "source": [
    "# We can see 1 player at the age of 45, 2 players at 44yrs, 1 player at 42yrs and 5 players at 41yrs.\n",
    "# We can take a look at those records to verify if we have plotted our histogram correctly.\n",
    "Age_df = fifa2019_df.loc[fifa2019_df['Age'] > 40]\n",
    "Age_df.sort_values(by=['Age'], ascending=False)"
   ]
  },
  {
   "cell_type": "code",
   "execution_count": 101,
   "metadata": {},
   "outputs": [
    {
     "data": {
      "image/png": "[encoded data removed]",
      "text/plain": [
       "<Figure size 1440x432 with 1 Axes>"
      ]
     },
     "metadata": {
      "needs_background": "light"
     },
     "output_type": "display_data"
    },
    {
     "data": {
      "text/plain": [
       "<Figure size 576x432 with 0 Axes>"
      ]
     },
     "metadata": {},
     "output_type": "display_data"
    }
   ],
   "source": [
    "# Plot histogram of Weight\n",
    "plt.rcParams['figure.figsize'] = (20,6)\n",
    "hist = plot_hist(fifa2019_df.Weight)\n",
    "thinkplot.Show(xlabel='Weight', ylabel='frequency')"
   ]
  },
  {
   "cell_type": "code",
   "execution_count": 102,
   "metadata": {},
   "outputs": [
    {
     "data": {
      "text/plain": [
       "[('243lbs', 1),\n",
       " ('236lbs', 2),\n",
       " ('234lbs', 1),\n",
       " ('229lbs', 1),\n",
       " ('227lbs', 2),\n",
       " ('225lbs', 3),\n",
       " ('223lbs', 3),\n",
       " ('220lbs', 1),\n",
       " ('218lbs', 5),\n",
       " ('216lbs', 9)]"
      ]
     },
     "execution_count": 102,
     "metadata": {},
     "output_type": "execute_result"
    }
   ],
   "source": [
    "hist.Largest(10)"
   ]
  },
  {
   "cell_type": "code",
   "execution_count": 103,
   "metadata": {},
   "outputs": [
    {
     "data": {
      "text/plain": [
       "[('110lbs', 2),\n",
       " ('115lbs', 1),\n",
       " ('117lbs', 6),\n",
       " ('119lbs', 4),\n",
       " ('121lbs', 10),\n",
       " ('123lbs', 18),\n",
       " ('126lbs', 14),\n",
       " ('128lbs', 31),\n",
       " ('130lbs', 33),\n",
       " ('132lbs', 127)]"
      ]
     },
     "execution_count": 103,
     "metadata": {},
     "output_type": "execute_result"
    }
   ],
   "source": [
    "hist.Smallest(10)"
   ]
  },
  {
   "cell_type": "markdown",
   "metadata": {},
   "source": [
    "From the above histogram, we can see that we have a few outliers in weight column. We can see a few players above 215lbs & also a few players below 120lbs"
   ]
  },
  {
   "cell_type": "code",
   "execution_count": 104,
   "metadata": {},
   "outputs": [
    {
     "data": {
      "image/png": "[encoded data removed]",
      "text/plain": [
       "<Figure size 864x432 with 1 Axes>"
      ]
     },
     "metadata": {
      "needs_background": "light"
     },
     "output_type": "display_data"
    },
    {
     "data": {
      "text/plain": [
       "<Figure size 576x432 with 0 Axes>"
      ]
     },
     "metadata": {},
     "output_type": "display_data"
    }
   ],
   "source": [
    "# Plot histogram of Height\n",
    "plt.rcParams['figure.figsize'] = (12,6)\n",
    "hist = plot_hist(fifa2019_df.Height)\n",
    "thinkplot.Show(xlabel='Height', ylabel='frequency')"
   ]
  },
  {
   "cell_type": "code",
   "execution_count": 105,
   "metadata": {},
   "outputs": [
    {
     "data": {
      "text/plain": [
       "[(\"6'9\", 2), (\"6'8\", 10)]"
      ]
     },
     "execution_count": 105,
     "metadata": {},
     "output_type": "execute_result"
    }
   ],
   "source": [
    "hist.Largest(2)"
   ]
  },
  {
   "cell_type": "code",
   "execution_count": 106,
   "metadata": {},
   "outputs": [
    {
     "data": {
      "text/plain": [
       "[(\"5'1\", 3), (\"5'10\", 2478)]"
      ]
     },
     "execution_count": 106,
     "metadata": {},
     "output_type": "execute_result"
    }
   ],
   "source": [
    "hist.Smallest(2)"
   ]
  },
  {
   "cell_type": "code",
   "execution_count": 107,
   "metadata": {},
   "outputs": [
    {
     "data": {
      "image/png": "[encoded data removed]",
      "text/plain": [
       "<Figure size 1440x432 with 1 Axes>"
      ]
     },
     "metadata": {
      "needs_background": "light"
     },
     "output_type": "display_data"
    },
    {
     "data": {
      "text/plain": [
       "<Figure size 576x432 with 0 Axes>"
      ]
     },
     "metadata": {},
     "output_type": "display_data"
    }
   ],
   "source": [
    "# Plot histogram of Position\n",
    "USWines_DF1 = cleanDF[(cleanDF[\"country\"] == \"US\") & (cleanDF[\"price\"] < 250)]\n",
    "plt.rcParams['figure.figsize'] = (20,6)\n",
    "hist = plot_hist(fifa2019_df.Position)\n",
    "thinkplot.Show(xlabel='Position', ylabel='frequency')"
   ]
  },
  {
   "cell_type": "code",
   "execution_count": 108,
   "metadata": {},
   "outputs": [
    {
     "data": {
      "image/png": "[encoded data removed]",
      "text/plain": [
       "<Figure size 720x432 with 1 Axes>"
      ]
     },
     "metadata": {
      "needs_background": "light"
     },
     "output_type": "display_data"
    },
    {
     "data": {
      "text/plain": [
       "<Figure size 576x432 with 0 Axes>"
      ]
     },
     "metadata": {},
     "output_type": "display_data"
    }
   ],
   "source": [
    "# Plot histogram of Preferred Foot\n",
    "plt.rcParams['figure.figsize'] = (10,6)\n",
    "hist = plot_hist(fifa2019_df.Preferred_Foot)\n",
    "thinkplot.Show(xlabel='Preferred Foot', ylabel='frequency')"
   ]
  },
  {
   "cell_type": "code",
   "execution_count": 109,
   "metadata": {},
   "outputs": [
    {
     "data": {
      "text/plain": [
       "[('Left', 4211)]"
      ]
     },
     "execution_count": 109,
     "metadata": {},
     "output_type": "execute_result"
    }
   ],
   "source": [
    "hist.Smallest(1)"
   ]
  },
  {
   "cell_type": "code",
   "execution_count": 110,
   "metadata": {},
   "outputs": [
    {
     "data": {
      "text/plain": [
       "[('Right', 13995)]"
      ]
     },
     "execution_count": 110,
     "metadata": {},
     "output_type": "execute_result"
    }
   ],
   "source": [
    "hist.Largest(1)"
   ]
  },
  {
   "cell_type": "code",
   "execution_count": 111,
   "metadata": {},
   "outputs": [
    {
     "data": {
      "image/png": "[encoded data removed]",
      "text/plain": [
       "<Figure size 1296x432 with 1 Axes>"
      ]
     },
     "metadata": {
      "needs_background": "light"
     },
     "output_type": "display_data"
    },
    {
     "data": {
      "text/plain": [
       "<Figure size 576x432 with 0 Axes>"
      ]
     },
     "metadata": {},
     "output_type": "display_data"
    }
   ],
   "source": [
    "# Plot histogram of General ability of Heading Accuracy, Dribbling, Curve or BallControl\n",
    "plt.rcParams['figure.figsize'] = (18,6)\n",
    "hist = plot_hist(fifa2019_df.General)\n",
    "thinkplot.Show(xlabel='General', ylabel='frequency')"
   ]
  },
  {
   "cell_type": "markdown",
   "metadata": {},
   "source": [
    "**4) Include the other descriptive characteristics about the variables: Mean, Mode, Spread, and Tails (Chapter 2).**"
   ]
  },
  {
   "cell_type": "markdown",
   "metadata": {},
   "source": [
    "Let us try to calculate the Mean, Mode, Spread, and Tails on column 'Age' from our dataframe."
   ]
  },
  {
   "cell_type": "code",
   "execution_count": 112,
   "metadata": {},
   "outputs": [
    {
     "name": "stdout",
     "output_type": "stream",
     "text": [
      "Mean of Age =  25.12270679995606\n"
     ]
    }
   ],
   "source": [
    "print('Mean of Age = ', fifa2019_df.Age.mean())"
   ]
  },
  {
   "cell_type": "code",
   "execution_count": 113,
   "metadata": {},
   "outputs": [],
   "source": [
    "def Mode(hist):\n",
    "    \"\"\"Returns the value with the highest frequency.\n",
    "\n",
    "    hist: Hist object\n",
    "\n",
    "    returns: value from Hist\n",
    "    \"\"\"\n",
    "    p, x = max([(p, x) for x, p in hist.Items()])\n",
    "    return x"
   ]
  },
  {
   "cell_type": "code",
   "execution_count": 114,
   "metadata": {},
   "outputs": [
    {
     "name": "stdout",
     "output_type": "stream",
     "text": [
      "Mode of Age = 21\n"
     ]
    }
   ],
   "source": [
    "hist = thinkstats2.Hist(fifa2019_df.Age)\n",
    "mode = Mode(hist)\n",
    "print('Mode of Age =', mode)"
   ]
  },
  {
   "cell_type": "code",
   "execution_count": 115,
   "metadata": {},
   "outputs": [
    {
     "name": "stdout",
     "output_type": "stream",
     "text": [
      "Mode of Age =  0    21\n",
      "dtype: int64\n"
     ]
    }
   ],
   "source": [
    "#We can also get the mode of a column by using the mode() function\n",
    "print('Mode of Age = ', fifa2019_df.Age.mode())"
   ]
  },
  {
   "cell_type": "code",
   "execution_count": 116,
   "metadata": {},
   "outputs": [
    {
     "name": "stdout",
     "output_type": "stream",
     "text": [
      "9\n"
     ]
    }
   ],
   "source": [
    "# As per above Mode calculation it tells us the most common (frequent) Age of players is 21. Let us see how many player's age = 21.\n",
    "print(Age_df.shape[0])  # gives number of row count"
   ]
  },
  {
   "cell_type": "markdown",
   "metadata": {},
   "source": [
    "We have 1,423 players who are 21yrs old."
   ]
  },
  {
   "cell_type": "code",
   "execution_count": 117,
   "metadata": {},
   "outputs": [],
   "source": [
    "import sys\n",
    "from operator import itemgetter\n",
    "def AllModes(hist):\n",
    "    \"\"\"Returns value-freq pairs in decreasing order of frequency.\n",
    "\n",
    "    hist: Hist object\n",
    "\n",
    "    returns: iterator of value-freq pairs\n",
    "    \"\"\"\n",
    "    return sorted(hist.Items(), key=itemgetter(1), reverse=True)"
   ]
  },
  {
   "cell_type": "code",
   "execution_count": 118,
   "metadata": {},
   "outputs": [
    {
     "name": "stdout",
     "output_type": "stream",
     "text": [
      "[(21, 1423), (26, 1387), (24, 1358), (22, 1340), (23, 1332), (25, 1319), (20, 1240), (27, 1162), (28, 1101), (19, 1024), (29, 959), (30, 917), (18, 732), (31, 707), (32, 574), (33, 408), (34, 404), (17, 289), (35, 196), (36, 127), (37, 82), (16, 41), (38, 37), (39, 25), (40, 13), (41, 5), (44, 2), (42, 1), (45, 1)]\n"
     ]
    }
   ],
   "source": [
    "hist = thinkstats2.Hist(fifa2019_df.Age)\n",
    "mode = AllModes(hist)\n",
    "print(mode)"
   ]
  },
  {
   "cell_type": "code",
   "execution_count": 119,
   "metadata": {},
   "outputs": [
    {
     "name": "stdout",
     "output_type": "stream",
     "text": [
      "Spread of Age =  21.804991651135392\n"
     ]
    }
   ],
   "source": [
    "print('Spread of Age = ', fifa2019_df.Age.var())"
   ]
  },
  {
   "cell_type": "code",
   "execution_count": 120,
   "metadata": {},
   "outputs": [
    {
     "name": "stdout",
     "output_type": "stream",
     "text": [
      "Standard deviation of Age =  4.6695815284814755\n"
     ]
    }
   ],
   "source": [
    "print('Standard deviation of Age = ', fifa2019_df.Age.std())"
   ]
  },
  {
   "cell_type": "markdown",
   "metadata": {},
   "source": [
    "The Mean of Age is 25.12 yrs and the standard deviation is 4.67 yrs, which means we should expect deviations of 4-5 yrs to be common."
   ]
  },
  {
   "cell_type": "markdown",
   "metadata": {},
   "source": [
    "**5) Using pg. 29 of your text as an example, compare two scenarios in your data using a PMF. Reminder, this isn’t comparing two variables against each other – it is the same variable, but a different scenario.  Almost like a filter. The example in the book is first babies compared to all other babies, it is still the same variable, but breaking the data out based on criteria we are exploring (Chapter 3).**"
   ]
  },
  {
   "cell_type": "code",
   "execution_count": 121,
   "metadata": {},
   "outputs": [],
   "source": [
    "# Below PMFs & CDFs will help us answer our question in general who has been better in defending the ball & who has been better in shooting the ball.\n",
    "Right = fifa2019_df[fifa2019_df.Preferred_Foot == 'Right']\n",
    "Left = fifa2019_df[fifa2019_df.Preferred_Foot == 'Left']"
   ]
  },
  {
   "cell_type": "code",
   "execution_count": 122,
   "metadata": {},
   "outputs": [
    {
     "data": {
      "image/png": "[encoded data removed]",
      "text/plain": [
       "<Figure size 1296x432 with 1 Axes>"
      ]
     },
     "metadata": {
      "needs_background": "light"
     },
     "output_type": "display_data"
    }
   ],
   "source": [
    "# Here we will see the PMF for Shooting\n",
    "shoot_right_pmf = thinkstats2.Pmf(Right.Shooting, label = 'Right foot')\n",
    "shoot_left_pmf = thinkstats2.Pmf(Left.Shooting, label = 'Left foot')\n",
    "\n",
    "thinkplot.Pmfs([shoot_right_pmf, shoot_left_pmf])\n",
    "thinkplot.Config(xlabel='Shooting skill', ylabel='PMFs')"
   ]
  },
  {
   "cell_type": "code",
   "execution_count": 123,
   "metadata": {},
   "outputs": [
    {
     "data": {
      "image/png": "[encoded data removed]",
      "text/plain": [
       "<Figure size 864x432 with 1 Axes>"
      ]
     },
     "metadata": {
      "needs_background": "light"
     },
     "output_type": "display_data"
    }
   ],
   "source": [
    "thinkplot.PrePlot(2, cols=2)\n",
    "thinkplot.Hist(shoot_right_pmf, align='right', width=0.4)\n",
    "thinkplot.Hist(shoot_left_pmf, align='left', width=0.4)\n",
    "thinkplot.config(xlabel='Shooting skill', ylabel='PMFs')"
   ]
  },
  {
   "cell_type": "markdown",
   "metadata": {},
   "source": [
    "Above we show the Shooting skill PMFs for Right foot and Left foot players using step functions and bar graphs."
   ]
  },
  {
   "cell_type": "code",
   "execution_count": 124,
   "metadata": {},
   "outputs": [
    {
     "data": {
      "image/png": "[encoded data removed]",
      "text/plain": [
       "<Figure size 1296x432 with 1 Axes>"
      ]
     },
     "metadata": {
      "needs_background": "light"
     },
     "output_type": "display_data"
    }
   ],
   "source": [
    "# Here we will see the PMF for Defending\n",
    "defend_right_pmf = thinkstats2.Pmf(Right.Defending, label = 'Right foot')\n",
    "defend_left_pmf = thinkstats2.Pmf(Left.Defending, label = 'Left foot')\n",
    "\n",
    "thinkplot.Pmfs([defend_right_pmf, defend_left_pmf])\n",
    "thinkplot.Config(xlabel='Defending skill', ylabel='PMFs')"
   ]
  },
  {
   "cell_type": "code",
   "execution_count": 125,
   "metadata": {},
   "outputs": [
    {
     "data": {
      "image/png": "[encoded data removed]",
      "text/plain": [
       "<Figure size 864x432 with 1 Axes>"
      ]
     },
     "metadata": {
      "needs_background": "light"
     },
     "output_type": "display_data"
    }
   ],
   "source": [
    "thinkplot.PrePlot(2, cols=2)\n",
    "thinkplot.Hist(defend_right_pmf, align='right', width=0.4)\n",
    "thinkplot.Hist(defend_left_pmf, align='left', width=0.4)\n",
    "thinkplot.config(xlabel='Defending skill', ylabel='PMFs')"
   ]
  },
  {
   "cell_type": "markdown",
   "metadata": {},
   "source": [
    "Above we show the Defending skill PMFs for Right foot and Left foot players using step functions and bar graphs."
   ]
  },
  {
   "cell_type": "markdown",
   "metadata": {},
   "source": [
    "**6) Create 1 CDF with one of your variables, using page 41-44 as your guide, what does this tell you about your variable and how does it address the question you are trying to answer (Chapter 4).**"
   ]
  },
  {
   "cell_type": "code",
   "execution_count": 126,
   "metadata": {},
   "outputs": [
    {
     "data": {
      "image/png": "[encoded data removed]",
      "text/plain": [
       "<Figure size 1296x432 with 1 Axes>"
      ]
     },
     "metadata": {
      "needs_background": "light"
     },
     "output_type": "display_data"
    }
   ],
   "source": [
    "# Like we did above with Shooting & Defending, we will plot CDF too.\n",
    "shoot_right_cdf = thinkstats2.Cdf(Right.Shooting, label = 'Right foot')\n",
    "shoot_left_cdf = thinkstats2.Cdf(Left.Shooting, label = 'Left foot')\n",
    "thinkplot.Cdfs([shoot_right_cdf, shoot_left_cdf])\n",
    "thinkplot.Config(xlabel = 'Shooting skills', ylabel = 'CDF')"
   ]
  },
  {
   "cell_type": "code",
   "execution_count": 127,
   "metadata": {},
   "outputs": [
    {
     "data": {
      "image/png": "[encoded data removed]",
      "text/plain": [
       "<Figure size 1296x432 with 1 Axes>"
      ]
     },
     "metadata": {
      "needs_background": "light"
     },
     "output_type": "display_data"
    }
   ],
   "source": [
    "defend_right_cdf = thinkstats2.Cdf(Right.Defending, label = 'Right foot')\n",
    "defend_left_cdf = thinkstats2.Cdf(Left.Defending, label = 'Left foot')\n",
    "thinkplot.Cdfs([defend_right_cdf, defend_left_cdf])\n",
    "thinkplot.Config(xlabel = 'Defending skills', ylabel = 'CDF')"
   ]
  },
  {
   "cell_type": "markdown",
   "metadata": {},
   "source": [
    "The above two CDF plots makes the shape of the distributions and the differences much clearer between the Right foot & Left foot players.  We can see that Left foot players are slightly better at both Defending and Shooting than the Right foot players."
   ]
  },
  {
   "cell_type": "markdown",
   "metadata": {},
   "source": [
    "**7) Plot 1 analytical distribution and provide your analysis on how it applies to the dataset you have chosen (Chapter 5).**"
   ]
  },
  {
   "cell_type": "code",
   "execution_count": 128,
   "metadata": {},
   "outputs": [
    {
     "data": {
      "image/png": "[encoded data removed]",
      "text/plain": [
       "<Figure size 864x432 with 1 Axes>"
      ]
     },
     "metadata": {
      "needs_background": "light"
     },
     "output_type": "display_data"
    }
   ],
   "source": [
    "# Pareto Distribution on Shooting skills\n",
    "log_shoot = np.log10(fifa2019_df.Shooting)\n",
    "cdf_shoot = thinkstats2.Cdf(fifa2019_df.Shooting, label='data')\n",
    "cdf_shoot_log = thinkstats2.Cdf(log_shoot, label='data')\n",
    "\n",
    "# pareto plot\n",
    "xs, ys = thinkstats2.RenderParetoCdf(xmin=550, alpha=1.1, low=0, high=1e7)\n",
    "thinkplot.Plot(np.log10(xs), 1-ys, label='model', color='0.8')\n",
    "thinkplot.PrePlot(cols=2)\n",
    "thinkplot.Cdf(cdf_shoot_log, complement=True) \n",
    "thinkplot.Config(xlabel='log10 Shooting skills',\n",
    "                 ylabel='CCDF',\n",
    "                 yscale='log', loc='lower left')"
   ]
  },
  {
   "cell_type": "markdown",
   "metadata": {},
   "source": [
    "The above plot shows complementry CDF of Shooting skills on a log-log scale"
   ]
  },
  {
   "cell_type": "code",
   "execution_count": 129,
   "metadata": {},
   "outputs": [
    {
     "data": {
      "image/png": "[encoded data removed]",
      "text/plain": [
       "<Figure size 864x432 with 1 Axes>"
      ]
     },
     "metadata": {
      "needs_background": "light"
     },
     "output_type": "display_data"
    }
   ],
   "source": [
    "thinkplot.PrePlot(cols=2)\n",
    "\n",
    "mu, sigma = log_shoot.mean(), log_shoot.std()\n",
    "xs, ps = thinkstats2.RenderNormalCdf(mu, sigma, low=0, high=8)\n",
    "thinkplot.Plot(xs, ps, label='model', color='0.8')\n",
    "\n",
    "thinkplot.Cdf(cdf_shoot_log) \n",
    "thinkplot.Config(xlabel='log10 Shooting skills',\n",
    "                 ylabel='CDF', loc='lower right')"
   ]
  },
  {
   "cell_type": "markdown",
   "metadata": {},
   "source": [
    "Here's a normal probability plot for the log-populations."
   ]
  },
  {
   "cell_type": "markdown",
   "metadata": {},
   "source": [
    "**8) Create two scatter plots comparing two variables and provide your analysis on correlation and causation. Remember, covariance, Pearson’s correlation, and Non-Linear Relationships should also be considered during your analysis (Chapter 7).**"
   ]
  },
  {
   "cell_type": "code",
   "execution_count": 130,
   "metadata": {},
   "outputs": [
    {
     "data": {
      "text/html": [
       "<div>\n",
       "<style scoped>\n",
       "    .dataframe tbody tr th:only-of-type {\n",
       "        vertical-align: middle;\n",
       "    }\n",
       "\n",
       "    .dataframe tbody tr th {\n",
       "        vertical-align: top;\n",
       "    }\n",
       "\n",
       "    .dataframe thead th {\n",
       "        text-align: right;\n",
       "    }\n",
       "</style>\n",
       "<table border=\"1\" class=\"dataframe\">\n",
       "  <thead>\n",
       "    <tr style=\"text-align: right;\">\n",
       "      <th></th>\n",
       "      <th>Age</th>\n",
       "      <th>Defending</th>\n",
       "      <th>General</th>\n",
       "      <th>Shooting</th>\n",
       "    </tr>\n",
       "  </thead>\n",
       "  <tbody>\n",
       "    <tr>\n",
       "      <th>Age</th>\n",
       "      <td>1.000000</td>\n",
       "      <td>0.124181</td>\n",
       "      <td>0.107179</td>\n",
       "      <td>0.153516</td>\n",
       "    </tr>\n",
       "    <tr>\n",
       "      <th>Defending</th>\n",
       "      <td>0.124181</td>\n",
       "      <td>1.000000</td>\n",
       "      <td>0.441250</td>\n",
       "      <td>0.156229</td>\n",
       "    </tr>\n",
       "    <tr>\n",
       "      <th>General</th>\n",
       "      <td>0.107179</td>\n",
       "      <td>0.441250</td>\n",
       "      <td>1.000000</td>\n",
       "      <td>0.896116</td>\n",
       "    </tr>\n",
       "    <tr>\n",
       "      <th>Shooting</th>\n",
       "      <td>0.153516</td>\n",
       "      <td>0.156229</td>\n",
       "      <td>0.896116</td>\n",
       "      <td>1.000000</td>\n",
       "    </tr>\n",
       "  </tbody>\n",
       "</table>\n",
       "</div>"
      ],
      "text/plain": [
       "                Age  Defending   General  Shooting\n",
       "Age        1.000000   0.124181  0.107179  0.153516\n",
       "Defending  0.124181   1.000000  0.441250  0.156229\n",
       "General    0.107179   0.441250  1.000000  0.896116\n",
       "Shooting   0.153516   0.156229  0.896116  1.000000"
      ]
     },
     "execution_count": 130,
     "metadata": {},
     "output_type": "execute_result"
    }
   ],
   "source": [
    "fifa2019_df.corr(method='pearson')"
   ]
  },
  {
   "cell_type": "code",
   "execution_count": 131,
   "metadata": {},
   "outputs": [
    {
     "data": {
      "image/png": "[encoded data removed]",
      "text/plain": [
       "<Figure size 1296x432 with 1 Axes>"
      ]
     },
     "metadata": {
      "needs_background": "light"
     },
     "output_type": "display_data"
    }
   ],
   "source": [
    "# Scatter Plot between Defending and Shooting\n",
    "\n",
    "thinkplot.Scatter(fifa2019_df.Defending, fifa2019_df.Shooting, alpha=0.5, s=10)\n",
    "thinkplot.Config(xlabel='Defending',\n",
    "                 ylabel='Shooting',\n",
    "                 legend=False)"
   ]
  },
  {
   "cell_type": "code",
   "execution_count": 132,
   "metadata": {},
   "outputs": [
    {
     "data": {
      "image/png": "[encoded data removed]",
      "text/plain": [
       "<Figure size 1296x432 with 1 Axes>"
      ]
     },
     "metadata": {
      "needs_background": "light"
     },
     "output_type": "display_data"
    }
   ],
   "source": [
    "# An alternative to a scatter plot is something like a HexBin plot, which breaks the plane into bins, \n",
    "# counts the number of respondents in each bin, and colors each bin in proportion to its count.\n",
    "\n",
    "thinkplot.HexBin(fifa2019_df.Defending, fifa2019_df.Shooting)\n",
    "thinkplot.Config(xlabel='Defending',\n",
    "                 ylabel='Shooting',\n",
    "                 legend=False)"
   ]
  },
  {
   "cell_type": "code",
   "execution_count": 133,
   "metadata": {},
   "outputs": [
    {
     "data": {
      "text/plain": [
       "array([[416.56230611,  52.17827973],\n",
       "       [ 52.17827973, 267.77988175]])"
      ]
     },
     "execution_count": 133,
     "metadata": {},
     "output_type": "execute_result"
    }
   ],
   "source": [
    "# Calculate Covariance\n",
    "np.cov(fifa2019_df.Defending, fifa2019_df.Shooting)"
   ]
  },
  {
   "cell_type": "markdown",
   "metadata": {},
   "source": [
    "Covariance between expense Defending and Shooting is 52.18"
   ]
  },
  {
   "cell_type": "code",
   "execution_count": 134,
   "metadata": {},
   "outputs": [
    {
     "data": {
      "text/plain": [
       "array([[1.        , 0.15622869],\n",
       "       [0.15622869, 1.        ]])"
      ]
     },
     "execution_count": 134,
     "metadata": {},
     "output_type": "execute_result"
    }
   ],
   "source": [
    "# Calculate pearson correlation\n",
    "np.corrcoef(fifa2019_df.Defending, fifa2019_df.Shooting)"
   ]
  },
  {
   "cell_type": "markdown",
   "metadata": {},
   "source": [
    "Pearson correlation between Defending and Shooting is 0.156"
   ]
  },
  {
   "cell_type": "code",
   "execution_count": 135,
   "metadata": {},
   "outputs": [
    {
     "data": {
      "text/plain": [
       "array([[1.       , 0.0459213],\n",
       "       [0.0459213, 1.       ]])"
      ]
     },
     "execution_count": 135,
     "metadata": {},
     "output_type": "execute_result"
    }
   ],
   "source": [
    "# Calculate Spearman's correlation\n",
    "# Calculate rank of each variable\n",
    "fifa2019_df['Defending_r'] = fifa2019_df.Defending.rank()\n",
    "fifa2019_df['Shooting_r'] = fifa2019_df.Shooting.rank()\n",
    "np.corrcoef(fifa2019_df.Defending_r, fifa2019_df.Shooting_r)"
   ]
  },
  {
   "cell_type": "markdown",
   "metadata": {},
   "source": [
    "Spearman's rank correlation between Defending and Shooting is 0.046"
   ]
  },
  {
   "cell_type": "markdown",
   "metadata": {},
   "source": [
    "**9) Conduct a test on your hypothesis using one of the methods covered in Chapter 9.**"
   ]
  },
  {
   "cell_type": "code",
   "execution_count": 136,
   "metadata": {},
   "outputs": [
    {
     "data": {
      "text/plain": [
       "0.0"
      ]
     },
     "execution_count": 136,
     "metadata": {},
     "output_type": "execute_result"
    }
   ],
   "source": [
    "# Testing the difference in mean between Right foot Shooting & Left foot Shooting\n",
    "\n",
    "data_s = Right.Shooting, Left.Shooting\n",
    "ht_s = hypothesis.DiffMeansPermute(data_s) # difference in means by permutation\n",
    "p1_s = ht_s.PValue(iters=10000)                       # Get the p-value\n",
    "p1_s"
   ]
  },
  {
   "cell_type": "code",
   "execution_count": 137,
   "metadata": {},
   "outputs": [
    {
     "data": {
      "image/png": "[encoded data removed]",
      "text/plain": [
       "<Figure size 1296x432 with 1 Axes>"
      ]
     },
     "metadata": {
      "needs_background": "light"
     },
     "output_type": "display_data"
    },
    {
     "data": {
      "text/plain": [
       "<Figure size 576x432 with 0 Axes>"
      ]
     },
     "metadata": {},
     "output_type": "display_data"
    }
   ],
   "source": [
    "ht_s.PlotCdf()\n",
    "thinkplot.Show(xlabel='test statistic',\n",
    "               ylabel='CDF')"
   ]
  },
  {
   "cell_type": "code",
   "execution_count": 138,
   "metadata": {},
   "outputs": [
    {
     "data": {
      "text/plain": [
       "0.0"
      ]
     },
     "execution_count": 138,
     "metadata": {},
     "output_type": "execute_result"
    }
   ],
   "source": [
    "# Testing the difference in mean between Right foot Defending & Left foot Defending\n",
    "\n",
    "data_d = Right.Defending, Left.Defending\n",
    "ht_d = hypothesis.DiffMeansPermute(data_d) # difference in means by permutation\n",
    "p1_d = ht_d.PValue(iters=10000)                       # Get the p-value\n",
    "p1_d"
   ]
  },
  {
   "cell_type": "code",
   "execution_count": 139,
   "metadata": {},
   "outputs": [
    {
     "data": {
      "image/png": "[encoded data removed]",
      "text/plain": [
       "<Figure size 1296x432 with 1 Axes>"
      ]
     },
     "metadata": {
      "needs_background": "light"
     },
     "output_type": "display_data"
    },
    {
     "data": {
      "text/plain": [
       "<Figure size 576x432 with 0 Axes>"
      ]
     },
     "metadata": {},
     "output_type": "display_data"
    }
   ],
   "source": [
    "ht_d.PlotCdf()\n",
    "thinkplot.Show(xlabel='test statistic',\n",
    "               ylabel='CDF')"
   ]
  },
  {
   "cell_type": "markdown",
   "metadata": {},
   "source": [
    "**10) For this project, conduct a regression analysis on either one dependent and one explanatory variable, or multiple explanatory variables (Chapter 10 & 11).**"
   ]
  },
  {
   "cell_type": "code",
   "execution_count": 140,
   "metadata": {},
   "outputs": [
    {
     "data": {
      "text/html": [
       "<table class=\"simpletable\">\n",
       "<caption>OLS Regression Results</caption>\n",
       "<tr>\n",
       "  <th>Dep. Variable:</th>           <td>Age</td>       <th>  R-squared:         </th> <td>   0.034</td> \n",
       "</tr>\n",
       "<tr>\n",
       "  <th>Model:</th>                   <td>OLS</td>       <th>  Adj. R-squared:    </th> <td>   0.034</td> \n",
       "</tr>\n",
       "<tr>\n",
       "  <th>Method:</th>             <td>Least Squares</td>  <th>  F-statistic:       </th> <td>   319.0</td> \n",
       "</tr>\n",
       "<tr>\n",
       "  <th>Date:</th>             <td>Sat, 08 Aug 2020</td> <th>  Prob (F-statistic):</th> <td>7.10e-137</td>\n",
       "</tr>\n",
       "<tr>\n",
       "  <th>Time:</th>                 <td>12:39:30</td>     <th>  Log-Likelihood:    </th> <td> -53576.</td> \n",
       "</tr>\n",
       "<tr>\n",
       "  <th>No. Observations:</th>      <td> 18206</td>      <th>  AIC:               </th> <td>1.072e+05</td>\n",
       "</tr>\n",
       "<tr>\n",
       "  <th>Df Residuals:</th>          <td> 18203</td>      <th>  BIC:               </th> <td>1.072e+05</td>\n",
       "</tr>\n",
       "<tr>\n",
       "  <th>Df Model:</th>              <td>     2</td>      <th>                     </th>     <td> </td>    \n",
       "</tr>\n",
       "<tr>\n",
       "  <th>Covariance Type:</th>      <td>nonrobust</td>    <th>                     </th>     <td> </td>    \n",
       "</tr>\n",
       "</table>\n",
       "<table class=\"simpletable\">\n",
       "<tr>\n",
       "      <td></td>         <th>coef</th>     <th>std err</th>      <th>t</th>      <th>P>|t|</th>  <th>[0.025</th>    <th>0.975]</th>  \n",
       "</tr>\n",
       "<tr>\n",
       "  <th>Intercept</th> <td>   22.1745</td> <td>    0.122</td> <td>  182.372</td> <td> 0.000</td> <td>   21.936</td> <td>   22.413</td>\n",
       "</tr>\n",
       "<tr>\n",
       "  <th>Defending</th> <td>    0.0235</td> <td>    0.002</td> <td>   13.924</td> <td> 0.000</td> <td>    0.020</td> <td>    0.027</td>\n",
       "</tr>\n",
       "<tr>\n",
       "  <th>Shooting</th>  <td>    0.0392</td> <td>    0.002</td> <td>   18.638</td> <td> 0.000</td> <td>    0.035</td> <td>    0.043</td>\n",
       "</tr>\n",
       "</table>\n",
       "<table class=\"simpletable\">\n",
       "<tr>\n",
       "  <th>Omnibus:</th>       <td>742.874</td> <th>  Durbin-Watson:     </th> <td>   1.580</td> \n",
       "</tr>\n",
       "<tr>\n",
       "  <th>Prob(Omnibus):</th> <td> 0.000</td>  <th>  Jarque-Bera (JB):  </th> <td> 831.492</td> \n",
       "</tr>\n",
       "<tr>\n",
       "  <th>Skew:</th>          <td> 0.519</td>  <th>  Prob(JB):          </th> <td>2.78e-181</td>\n",
       "</tr>\n",
       "<tr>\n",
       "  <th>Kurtosis:</th>      <td> 2.865</td>  <th>  Cond. No.          </th> <td>    248.</td> \n",
       "</tr>\n",
       "</table><br/><br/>Warnings:<br/>[1] Standard Errors assume that the covariance matrix of the errors is correctly specified."
      ],
      "text/plain": [
       "<class 'statsmodels.iolib.summary.Summary'>\n",
       "\"\"\"\n",
       "                            OLS Regression Results                            \n",
       "==============================================================================\n",
       "Dep. Variable:                    Age   R-squared:                       0.034\n",
       "Model:                            OLS   Adj. R-squared:                  0.034\n",
       "Method:                 Least Squares   F-statistic:                     319.0\n",
       "Date:                Sat, 08 Aug 2020   Prob (F-statistic):          7.10e-137\n",
       "Time:                        12:39:30   Log-Likelihood:                -53576.\n",
       "No. Observations:               18206   AIC:                         1.072e+05\n",
       "Df Residuals:                   18203   BIC:                         1.072e+05\n",
       "Df Model:                           2                                         \n",
       "Covariance Type:            nonrobust                                         \n",
       "==============================================================================\n",
       "                 coef    std err          t      P>|t|      [0.025      0.975]\n",
       "------------------------------------------------------------------------------\n",
       "Intercept     22.1745      0.122    182.372      0.000      21.936      22.413\n",
       "Defending      0.0235      0.002     13.924      0.000       0.020       0.027\n",
       "Shooting       0.0392      0.002     18.638      0.000       0.035       0.043\n",
       "==============================================================================\n",
       "Omnibus:                      742.874   Durbin-Watson:                   1.580\n",
       "Prob(Omnibus):                  0.000   Jarque-Bera (JB):              831.492\n",
       "Skew:                           0.519   Prob(JB):                    2.78e-181\n",
       "Kurtosis:                       2.865   Cond. No.                         248.\n",
       "==============================================================================\n",
       "\n",
       "Warnings:\n",
       "[1] Standard Errors assume that the covariance matrix of the errors is correctly specified.\n",
       "\"\"\""
      ]
     },
     "execution_count": 140,
     "metadata": {},
     "output_type": "execute_result"
    }
   ],
   "source": [
    "# Here we choose Age as dependent and Defending & Shooting as explanatory variable.\n",
    "\n",
    "formula = 'Age ~ Defending + Shooting'\n",
    "model = smf.ols(formula, data=fifa2019_df).fit()\n",
    "model.summary()"
   ]
  },
  {
   "cell_type": "code",
   "execution_count": 141,
   "metadata": {},
   "outputs": [
    {
     "data": {
      "text/plain": [
       "0    28.447061\n",
       "dtype: float64"
      ]
     },
     "execution_count": 141,
     "metadata": {},
     "output_type": "execute_result"
    }
   ],
   "source": [
    "# Perform Prediction\n",
    "\n",
    "columns = ['Defending', 'Shooting']\n",
    "new = pd.DataFrame([[100, 100]], columns=columns)\n",
    "model.predict(new)"
   ]
  },
  {
   "cell_type": "markdown",
   "metadata": {},
   "source": [
    "**As per our model, a player would be around 28.45 years to master the skill of Defending and Shooting.**"
   ]
  },
  {
   "cell_type": "code",
   "execution_count": null,
   "metadata": {},
   "outputs": [],
   "source": []
  }
 ],
 "metadata": {
  "kernelspec": {
   "display_name": "Python 3",
   "language": "python",
   "name": "python3"
  },
  "language_info": {
   "codemirror_mode": {
    "name": "ipython",
    "version": 3
   },
   "file_extension": ".py",
   "mimetype": "text/x-python",
   "name": "python",
   "nbconvert_exporter": "python",
   "pygments_lexer": "ipython3",
   "version": "3.7.6"
  }
 },
 "nbformat": 4,
 "nbformat_minor": 4
}
